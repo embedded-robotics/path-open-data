{
 "cells": [
  {
   "cell_type": "markdown",
   "id": "5713a7ef",
   "metadata": {},
   "source": [
    "https://github.com/OpenBMB/MiniCPM-o \\\n",
    "https://huggingface.co/openbmb/MiniCPM-V-2_6"
   ]
  },
  {
   "cell_type": "code",
   "execution_count": null,
   "id": "e38442da",
   "metadata": {},
   "outputs": [],
   "source": [
    "import os\n",
    "import sys"
   ]
  },
  {
   "cell_type": "code",
   "execution_count": null,
   "id": "744558f1",
   "metadata": {},
   "outputs": [],
   "source": [
    "# Set CUDA_VISIBLE_DEVICES to expose only device 0\n",
    "os.environ[\"CUDA_VISIBLE_DEVICES\"] = \"0\"\n",
    "\n",
    "# Set CUDA_VISIBLE_DEVICES to expose devices 0, 1, 2, and 3\n",
    "# os.environ[\"CUDA_VISIBLE_DEVICES\"] = \"0,1,2,3\""
   ]
  },
  {
   "cell_type": "code",
   "execution_count": null,
   "id": "1adeac87",
   "metadata": {},
   "outputs": [],
   "source": [
    "import torch\n",
    "from PIL import Image\n",
    "from transformers import AutoModel, AutoTokenizer"
   ]
  },
  {
   "cell_type": "code",
   "execution_count": null,
   "id": "54eb3def",
   "metadata": {},
   "outputs": [],
   "source": [
    "model = AutoModel.from_pretrained('openbmb/MiniCPM-V-2_6', trust_remote_code=True,\n",
    "                                   attn_implementation='sdpa', torch_dtype=torch.bfloat16) # sdpa or flash_attention_2, no eager\n",
    "\n",
    "model = model.cuda().eval()"
   ]
  },
  {
   "cell_type": "code",
   "execution_count": null,
   "id": "bafdc37c",
   "metadata": {},
   "outputs": [],
   "source": [
    "tokenizer = AutoTokenizer.from_pretrained('openbmb/MiniCPM-V-2_6', trust_remote_code=True)"
   ]
  },
  {
   "cell_type": "code",
   "execution_count": null,
   "id": "610ac042",
   "metadata": {},
   "outputs": [],
   "source": [
    "image = Image.open('./DeepSeek-VL2/images/visual_grounding_1.jpeg').convert('RGB')\n",
    "question = 'What is in the image?'\n",
    "msgs = [{'role': 'user', 'content': [image, question]}]"
   ]
  },
  {
   "cell_type": "code",
   "execution_count": null,
   "id": "59a8e1bc",
   "metadata": {},
   "outputs": [],
   "source": [
    "res = model.chat(\n",
    "    image=None,\n",
    "    msgs=msgs,\n",
    "    tokenizer=tokenizer\n",
    ")"
   ]
  },
  {
   "cell_type": "code",
   "execution_count": null,
   "id": "2fef90a9",
   "metadata": {},
   "outputs": [],
   "source": [
    "print(res)"
   ]
  },
  {
   "cell_type": "markdown",
   "id": "e46bd5ae",
   "metadata": {},
   "source": [
    "#### Multiple Images"
   ]
  },
  {
   "cell_type": "code",
   "execution_count": null,
   "id": "aed16f5d",
   "metadata": {},
   "outputs": [],
   "source": [
    "image1 = Image.open('./DeepSeek-VL2/images/visual_grounding_1.jpeg').convert('RGB')\n",
    "image2 = Image.open('./DeepSeek-VL2/images/visual_grounding_2.jpg').convert('RGB')\n",
    "question = 'Compare image 1 and image 2, tell me about the differences between image 1 and image 2.'\n",
    "\n",
    "msgs = [{'role': 'user', 'content': [image1, image2, question]}]"
   ]
  },
  {
   "cell_type": "code",
   "execution_count": null,
   "id": "a0357c3a",
   "metadata": {},
   "outputs": [],
   "source": [
    "answer = model.chat(\n",
    "    image=None,\n",
    "    msgs=msgs,\n",
    "    tokenizer=tokenizer\n",
    ")"
   ]
  },
  {
   "cell_type": "code",
   "execution_count": null,
   "id": "d22a8d98",
   "metadata": {},
   "outputs": [],
   "source": [
    "print(answer)"
   ]
  },
  {
   "cell_type": "code",
   "execution_count": null,
   "id": "7ac16742",
   "metadata": {},
   "outputs": [],
   "source": []
  }
 ],
 "metadata": {
  "kernelspec": {
   "display_name": "path-opendata",
   "language": "python",
   "name": "python3"
  },
  "language_info": {
   "codemirror_mode": {
    "name": "ipython",
    "version": 3
   },
   "file_extension": ".py",
   "mimetype": "text/x-python",
   "name": "python",
   "nbconvert_exporter": "python",
   "pygments_lexer": "ipython3",
   "version": "3.10.18"
  }
 },
 "nbformat": 4,
 "nbformat_minor": 5
}
