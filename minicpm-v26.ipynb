{
 "cells": [
  {
   "cell_type": "markdown",
   "id": "5713a7ef",
   "metadata": {},
   "source": [
    "https://github.com/OpenBMB/MiniCPM-o \\\n",
    "https://huggingface.co/openbmb/MiniCPM-V-2_6"
   ]
  },
  {
   "cell_type": "code",
   "execution_count": 1,
   "id": "e38442da",
   "metadata": {},
   "outputs": [],
   "source": [
    "import os"
   ]
  },
  {
   "cell_type": "code",
   "execution_count": 2,
   "id": "744558f1",
   "metadata": {},
   "outputs": [],
   "source": [
    "# Set CUDA_VISIBLE_DEVICES to expose only device 0\n",
    "os.environ[\"CUDA_VISIBLE_DEVICES\"] = \"0\"\n",
    "\n",
    "# Set CUDA_VISIBLE_DEVICES to expose devices 0, 1, 2, and 3\n",
    "# os.environ[\"CUDA_VISIBLE_DEVICES\"] = \"0,1,2,3\""
   ]
  },
  {
   "cell_type": "code",
   "execution_count": 3,
   "id": "1adeac87",
   "metadata": {},
   "outputs": [
    {
     "name": "stderr",
     "output_type": "stream",
     "text": [
      "/data/mn27889/miniconda3/envs/path-opendata/lib/python3.10/site-packages/tqdm/auto.py:21: TqdmWarning: IProgress not found. Please update jupyter and ipywidgets. See https://ipywidgets.readthedocs.io/en/stable/user_install.html\n",
      "  from .autonotebook import tqdm as notebook_tqdm\n"
     ]
    }
   ],
   "source": [
    "import torch\n",
    "from PIL import Image\n",
    "from transformers import AutoModel, AutoTokenizer"
   ]
  },
  {
   "cell_type": "code",
   "execution_count": 4,
   "id": "54eb3def",
   "metadata": {},
   "outputs": [
    {
     "name": "stderr",
     "output_type": "stream",
     "text": [
      "Loading checkpoint shards: 100%|██████████| 4/4 [00:02<00:00,  1.94it/s]\n"
     ]
    }
   ],
   "source": [
    "model = AutoModel.from_pretrained('openbmb/MiniCPM-V-2_6', trust_remote_code=True,\n",
    "                                   attn_implementation='sdpa', torch_dtype=torch.bfloat16) # sdpa or flash_attention_2, no eager\n",
    "\n",
    "model = model.cuda().eval()"
   ]
  },
  {
   "cell_type": "code",
   "execution_count": 5,
   "id": "bafdc37c",
   "metadata": {},
   "outputs": [],
   "source": [
    "tokenizer = AutoTokenizer.from_pretrained('openbmb/MiniCPM-V-2_6', trust_remote_code=True)"
   ]
  },
  {
   "cell_type": "markdown",
   "id": "eb4cc474",
   "metadata": {},
   "source": [
    "#### Single Image Inference"
   ]
  },
  {
   "cell_type": "code",
   "execution_count": 6,
   "id": "610ac042",
   "metadata": {},
   "outputs": [],
   "source": [
    "image = Image.open('./DeepSeek-VL2/images/visual_grounding_1.jpeg').convert('RGB')\n",
    "question = 'Describe the image?'\n",
    "msgs = [{'role': 'user', 'content': [image, question]}]"
   ]
  },
  {
   "cell_type": "code",
   "execution_count": 7,
   "id": "59a8e1bc",
   "metadata": {},
   "outputs": [
    {
     "name": "stderr",
     "output_type": "stream",
     "text": [
      "/data/mn27889/miniconda3/envs/path-opendata/lib/python3.10/site-packages/transformers/models/auto/image_processing_auto.py:644: FutureWarning: The image_processor_class argument is deprecated and will be removed in v4.42. Please use `slow_image_processor_class`, or `fast_image_processor_class` instead\n",
      "  warnings.warn(\n",
      "Using a slow image processor as `use_fast` is unset and a slow processor was saved with this model. `use_fast=True` will be the default behavior in v4.52, even if the model was saved with a slow processor. This will result in minor differences in outputs. You'll still be able to use a slow processor with `use_fast=False`.\n"
     ]
    }
   ],
   "source": [
    "res = model.chat(\n",
    "    image=None,\n",
    "    msgs=msgs,\n",
    "    tokenizer=tokenizer\n",
    ")"
   ]
  },
  {
   "cell_type": "code",
   "execution_count": 8,
   "id": "2fef90a9",
   "metadata": {},
   "outputs": [
    {
     "name": "stdout",
     "output_type": "stream",
     "text": [
      "The image shows two giraffes in a grassy field with trees in the background. The larger giraffe is prominently featured in the foreground, while the smaller one stands slightly behind and to its right. Giraffes are known for their long necks and legs, which help them reach leaves high up in trees, and their distinctive coat patterns. They inhabit savannas, grasslands, open woodlands, and mountainous areas across Africa. This setting suggests that these giraffes might be in a wildlife reserve or safari park where they can roam freely in an environment similar to their natural habitat.\n"
     ]
    }
   ],
   "source": [
    "print(res)"
   ]
  },
  {
   "cell_type": "markdown",
   "id": "e46bd5ae",
   "metadata": {},
   "source": [
    "#### Multiple Images in one Question"
   ]
  },
  {
   "cell_type": "code",
   "execution_count": 9,
   "id": "aed16f5d",
   "metadata": {},
   "outputs": [],
   "source": [
    "image1 = Image.open('./DeepSeek-VL2/images/visual_grounding_1.jpeg').convert('RGB')\n",
    "image2 = Image.open('./DeepSeek-VL2/images/visual_grounding_2.jpg').convert('RGB')\n",
    "question = 'Compare image 1 and image 2, tell me about the differences between image 1 and image 2.'\n",
    "\n",
    "msgs = [{'role': 'user', 'content': [image1, image2, question]}]"
   ]
  },
  {
   "cell_type": "code",
   "execution_count": 10,
   "id": "a0357c3a",
   "metadata": {},
   "outputs": [],
   "source": [
    "answer = model.chat(\n",
    "    image=None,\n",
    "    msgs=msgs,\n",
    "    tokenizer=tokenizer\n",
    ")"
   ]
  },
  {
   "cell_type": "code",
   "execution_count": 11,
   "id": "d22a8d98",
   "metadata": {},
   "outputs": [
    {
     "name": "stdout",
     "output_type": "stream",
     "text": [
      "The main difference between the two images is their content. Image 1 features a natural scene with giraffes, while image 2 depicts an animated cartoon of people in suits. The colors and overall themes are also distinct, with the former having more earthy tones and the latter featuring bright, contrasting colors typical of cartoons.\n"
     ]
    }
   ],
   "source": [
    "print(answer)"
   ]
  },
  {
   "cell_type": "markdown",
   "id": "08e0bf13",
   "metadata": {},
   "source": [
    "#### Batch Inference"
   ]
  },
  {
   "cell_type": "code",
   "execution_count": 15,
   "id": "7ac16742",
   "metadata": {},
   "outputs": [],
   "source": [
    "image1 = Image.open('./DeepSeek-VL2/images/visual_grounding_1.jpeg').convert('RGB')\n",
    "image2 = Image.open('./DeepSeek-VL2/images/visual_grounding_2.jpg').convert('RGB')\n",
    "question = 'Describe the image'\n",
    "\n",
    "msgs = [[{'role': 'user', 'content': [image1, question]}], [{'role': 'user', 'content': [image2, question]}]]"
   ]
  },
  {
   "cell_type": "code",
   "execution_count": 16,
   "id": "e07e6b3d",
   "metadata": {},
   "outputs": [],
   "source": [
    "answer = model.chat(\n",
    "    image=None,\n",
    "    msgs=msgs,\n",
    "    tokenizer=tokenizer\n",
    ")"
   ]
  },
  {
   "cell_type": "code",
   "execution_count": 17,
   "id": "9557811f",
   "metadata": {},
   "outputs": [
    {
     "data": {
      "text/plain": [
       "[\"The image captures two giraffes in a grassy field, which appears to be a wildlife reserve or safari park. The taller giraffe is prominently featured in the foreground, while the second one stands slightly behind and to the right. Both animals are facing left, with their heads turned towards the camera, giving a sense of direct engagement with the viewer. In the background, there's a hint of other animals grazing and trees that provide a naturalistic setting for these majestic creatures. The clear blue sky suggests it might be midday or early afternoon when the sun is bright but not directly overhead.\",\n",
       " 'The image is a cartoon depicting an interaction between two characters, labeled as \"我\" (I) and \"导\" (Guide). The character on the right, presumably the guide, is depicted with a large bald spot on their head, red marks indicating irritation or anger, and flames coming from their head, suggesting they are very angry. They are pointing at the character on the left, who appears calm and unperturbed by the guide\\'s anger.\\n\\nAbove the guide, there is a speech bubble containing Chinese text that translates to \"You look so anxious,\" which adds context to the scene, implying that the guide is frustrated with the other person for being overly concerned or stressed about something. The overall tone of the cartoon suggests a humorous take on workplace stress or anxiety.']"
      ]
     },
     "execution_count": 17,
     "metadata": {},
     "output_type": "execute_result"
    }
   ],
   "source": [
    "answer"
   ]
  },
  {
   "cell_type": "code",
   "execution_count": null,
   "id": "f4c24e0d",
   "metadata": {},
   "outputs": [],
   "source": []
  }
 ],
 "metadata": {
  "kernelspec": {
   "display_name": "path-opendata",
   "language": "python",
   "name": "python3"
  },
  "language_info": {
   "codemirror_mode": {
    "name": "ipython",
    "version": 3
   },
   "file_extension": ".py",
   "mimetype": "text/x-python",
   "name": "python",
   "nbconvert_exporter": "python",
   "pygments_lexer": "ipython3",
   "version": "3.10.18"
  }
 },
 "nbformat": 4,
 "nbformat_minor": 5
}
