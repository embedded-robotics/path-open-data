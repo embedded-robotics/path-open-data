{
 "cells": [
  {
   "cell_type": "markdown",
   "id": "9d71d051",
   "metadata": {},
   "source": [
    "https://quilt-llava.github.io \\\n",
    "https://github.com/aldraus/quilt-llava \\\n",
    "https://huggingface.co/wisdomik/Quilt-Llava-v1.5-7b"
   ]
  },
  {
   "cell_type": "code",
   "execution_count": null,
   "id": "6878d7c6",
   "metadata": {},
   "outputs": [],
   "source": [
    "!export PYTHONPATH=/data/mn27889/path-open-data/quilt-llava:$PYTHONPATH"
   ]
  },
  {
   "cell_type": "code",
   "execution_count": null,
   "id": "d1eae225",
   "metadata": {},
   "outputs": [],
   "source": [
    "!CUDA_VISIBLE_DEVICES=0 python llava/eval/model_vqa.py \\\n",
    "--model-path wisdomik/Quilt-Llava-v1.5-7b \\\n",
    "--question-file ./../quilt_llava_questions.jsonl \\\n",
    "--answers-file ./../quilt_llava_answers.jsonl \\\n",
    "--image-folder=/data/mn27889/path-open-data/pathology_images"
   ]
  }
 ],
 "metadata": {
  "kernelspec": {
   "display_name": "path-opendata",
   "language": "python",
   "name": "python3"
  },
  "language_info": {
   "codemirror_mode": {
    "name": "ipython",
    "version": 3
   },
   "file_extension": ".py",
   "mimetype": "text/x-python",
   "name": "python",
   "nbconvert_exporter": "python",
   "pygments_lexer": "ipython3",
   "version": "3.10.18"
  }
 },
 "nbformat": 4,
 "nbformat_minor": 5
}
