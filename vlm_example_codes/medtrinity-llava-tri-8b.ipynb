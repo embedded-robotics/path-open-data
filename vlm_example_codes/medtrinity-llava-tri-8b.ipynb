{
 "cells": [
  {
   "cell_type": "markdown",
   "id": "9d71d051",
   "metadata": {},
   "source": [
    "https://yunfeixie233.github.io/MedTrinity-25M/ \\\n",
    "https://github.com/UCSC-VLAA/MedTrinity-25M/tree/master \\\n",
    "https://huggingface.co/yunfeixie/LLaVA-Tri-Pretrained \\\n",
    "https://huggingface.co/yunfeixie/LLaVA-Tri-PathVQA"
   ]
  },
  {
   "cell_type": "code",
   "execution_count": null,
   "id": "6878d7c6",
   "metadata": {},
   "outputs": [],
   "source": [
    "!export PYTHONPATH=/data/mn27889/path-open-data/MedTrinity-25M:$PYTHONPATH"
   ]
  },
  {
   "cell_type": "markdown",
   "id": "eead2f64",
   "metadata": {},
   "source": [
    "#### LLaVA-Tri Pretrained"
   ]
  },
  {
   "cell_type": "code",
   "execution_count": null,
   "id": "d1eae225",
   "metadata": {},
   "outputs": [],
   "source": [
    "!CUDA_VISIBLE_DEVICES=0 python llava/eval/model_vqa.py \\\n",
    "--model-path yunfeixie/LLaVA-Tri-Pretrained \\\n",
    "--question-file ./../llava_tri_questions.jsonl \\\n",
    "--answers-file ./../llava_tri_pretrained_answers.jsonl \\\n",
    "--image-folder=/data/mn27889/path-open-data/pathology_images"
   ]
  },
  {
   "cell_type": "markdown",
   "id": "59e500d6",
   "metadata": {},
   "source": [
    "#### LLaVA-Tri PathVQA"
   ]
  },
  {
   "cell_type": "code",
   "execution_count": null,
   "id": "4234d2f1",
   "metadata": {},
   "outputs": [],
   "source": [
    "!CUDA_VISIBLE_DEVICES=0 python llava/eval/model_vqa.py \\\n",
    "--model-path yunfeixie/LLaVA-Tri-PathVQA \\\n",
    "--question-file ./../llava_tri_questions.jsonl \\\n",
    "--answers-file ./../llava_tri_pathvqa_answers.jsonl \\\n",
    "--image-folder=/data/mn27889/path-open-data/pathology_images"
   ]
  }
 ],
 "metadata": {
  "kernelspec": {
   "display_name": "path-opendata",
   "language": "python",
   "name": "python3"
  },
  "language_info": {
   "codemirror_mode": {
    "name": "ipython",
    "version": 3
   },
   "file_extension": ".py",
   "mimetype": "text/x-python",
   "name": "python",
   "nbconvert_exporter": "python",
   "pygments_lexer": "ipython3",
   "version": "3.10.18"
  }
 },
 "nbformat": 4,
 "nbformat_minor": 5
}
