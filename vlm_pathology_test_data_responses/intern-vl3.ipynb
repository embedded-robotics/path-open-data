{
 "cells": [
  {
   "cell_type": "markdown",
   "id": "5713a7ef",
   "metadata": {},
   "source": [
    "https://internvl.github.io \\\n",
    "https://github.com/OpenGVLab/InternVL \\\n",
    "https://huggingface.co/OpenGVLab/InternVL3-8B"
   ]
  },
  {
   "cell_type": "code",
   "execution_count": 20,
   "id": "e38442da",
   "metadata": {},
   "outputs": [],
   "source": [
    "import os\n",
    "import sys"
   ]
  },
  {
   "cell_type": "code",
   "execution_count": 21,
   "id": "744558f1",
   "metadata": {},
   "outputs": [],
   "source": [
    "# Set CUDA_VISIBLE_DEVICES to expose only device 0\n",
    "os.environ[\"CUDA_VISIBLE_DEVICES\"] = \"0\"\n",
    "\n",
    "# Set CUDA_VISIBLE_DEVICES to expose devices 0, 1, 2, and 3\n",
    "# os.environ[\"CUDA_VISIBLE_DEVICES\"] = \"0,1,2,3\""
   ]
  },
  {
   "cell_type": "code",
   "execution_count": 22,
   "id": "1adeac87",
   "metadata": {},
   "outputs": [],
   "source": [
    "import math\n",
    "import numpy as np\n",
    "import torch\n",
    "import torchvision.transforms as T\n",
    "from PIL import Image\n",
    "from torchvision.transforms.functional import InterpolationMode\n",
    "from transformers import AutoModel, AutoTokenizer\n",
    "import pandas as pd"
   ]
  },
  {
   "cell_type": "markdown",
   "id": "c05dd302",
   "metadata": {},
   "source": [
    "#### Reading the Pathology Test Data"
   ]
  },
  {
   "cell_type": "code",
   "execution_count": 23,
   "id": "cc4d5975",
   "metadata": {},
   "outputs": [
    {
     "data": {
      "text/html": [
       "<div>\n",
       "<style scoped>\n",
       "    .dataframe tbody tr th:only-of-type {\n",
       "        vertical-align: middle;\n",
       "    }\n",
       "\n",
       "    .dataframe tbody tr th {\n",
       "        vertical-align: top;\n",
       "    }\n",
       "\n",
       "    .dataframe thead th {\n",
       "        text-align: right;\n",
       "    }\n",
       "</style>\n",
       "<table border=\"1\" class=\"dataframe\">\n",
       "  <thead>\n",
       "    <tr style=\"text-align: right;\">\n",
       "      <th></th>\n",
       "      <th>image_name</th>\n",
       "      <th>question</th>\n",
       "      <th>original_responses</th>\n",
       "    </tr>\n",
       "  </thead>\n",
       "  <tbody>\n",
       "    <tr>\n",
       "      <th>0</th>\n",
       "      <td>ck_PTGC_2x.jpeg</td>\n",
       "      <td>How can you best describe the low-power patter...</td>\n",
       "      <td>The lymph node shows a mixed follicular and in...</td>\n",
       "    </tr>\n",
       "    <tr>\n",
       "      <th>1</th>\n",
       "      <td>ck_PTGC_2x.jpeg</td>\n",
       "      <td>What are three main differential diagnostic co...</td>\n",
       "      <td>Based on the low-power pattern, the primary co...</td>\n",
       "    </tr>\n",
       "    <tr>\n",
       "      <th>2</th>\n",
       "      <td>ck_PTGC_5x.jpeg</td>\n",
       "      <td>What is the morphologic alteration being depic...</td>\n",
       "      <td>The image shows a central enlarged, somewhat i...</td>\n",
       "    </tr>\n",
       "    <tr>\n",
       "      <th>3</th>\n",
       "      <td>ck_PTGC_5x.jpeg</td>\n",
       "      <td>What is the expected immunoarchitecture of the...</td>\n",
       "      <td>This image shows an enlarged secondary follicl...</td>\n",
       "    </tr>\n",
       "    <tr>\n",
       "      <th>4</th>\n",
       "      <td>ck_serositis_4x.jpg</td>\n",
       "      <td>What is the most common source for the change ...</td>\n",
       "      <td>The changes here show extensive serositis, wit...</td>\n",
       "    </tr>\n",
       "    <tr>\n",
       "      <th>5</th>\n",
       "      <td>ck_serositis_4x.jpg</td>\n",
       "      <td>What is the specific anatomic region shown in ...</td>\n",
       "      <td>The right half shows the muscularis propria an...</td>\n",
       "    </tr>\n",
       "    <tr>\n",
       "      <th>6</th>\n",
       "      <td>ck_steatohepatitis_100x.jpg</td>\n",
       "      <td>If these histologic changes included conspicuo...</td>\n",
       "      <td>There is fatty liver disease and if concurrent...</td>\n",
       "    </tr>\n",
       "    <tr>\n",
       "      <th>7</th>\n",
       "      <td>ck_steatohepatitis_100x.jpg</td>\n",
       "      <td>What would the primary histologic feature to s...</td>\n",
       "      <td>Wilson's disease has many non-specific finding...</td>\n",
       "    </tr>\n",
       "    <tr>\n",
       "      <th>8</th>\n",
       "      <td>ck_steatohepatitis_200x.jpg</td>\n",
       "      <td>In an overweight adolescent with mildly increa...</td>\n",
       "      <td>In the background of steatosis, there is incre...</td>\n",
       "    </tr>\n",
       "  </tbody>\n",
       "</table>\n",
       "</div>"
      ],
      "text/plain": [
       "                    image_name  \\\n",
       "0              ck_PTGC_2x.jpeg   \n",
       "1              ck_PTGC_2x.jpeg   \n",
       "2              ck_PTGC_5x.jpeg   \n",
       "3              ck_PTGC_5x.jpeg   \n",
       "4          ck_serositis_4x.jpg   \n",
       "5          ck_serositis_4x.jpg   \n",
       "6  ck_steatohepatitis_100x.jpg   \n",
       "7  ck_steatohepatitis_100x.jpg   \n",
       "8  ck_steatohepatitis_200x.jpg   \n",
       "\n",
       "                                            question  \\\n",
       "0  How can you best describe the low-power patter...   \n",
       "1  What are three main differential diagnostic co...   \n",
       "2  What is the morphologic alteration being depic...   \n",
       "3  What is the expected immunoarchitecture of the...   \n",
       "4  What is the most common source for the change ...   \n",
       "5  What is the specific anatomic region shown in ...   \n",
       "6  If these histologic changes included conspicuo...   \n",
       "7  What would the primary histologic feature to s...   \n",
       "8  In an overweight adolescent with mildly increa...   \n",
       "\n",
       "                                  original_responses  \n",
       "0  The lymph node shows a mixed follicular and in...  \n",
       "1  Based on the low-power pattern, the primary co...  \n",
       "2  The image shows a central enlarged, somewhat i...  \n",
       "3  This image shows an enlarged secondary follicl...  \n",
       "4  The changes here show extensive serositis, wit...  \n",
       "5  The right half shows the muscularis propria an...  \n",
       "6  There is fatty liver disease and if concurrent...  \n",
       "7  Wilson's disease has many non-specific finding...  \n",
       "8  In the background of steatosis, there is incre...  "
      ]
     },
     "execution_count": 23,
     "metadata": {},
     "output_type": "execute_result"
    }
   ],
   "source": [
    "questions = pd.read_csv(\"../pathology_test_data/questions.csv\")\n",
    "questions"
   ]
  },
  {
   "cell_type": "code",
   "execution_count": 24,
   "metadata": {},
   "outputs": [
    {
     "data": {
      "text/plain": [
       "['ck_steatohepatitis_100x.jpg',\n",
       " 'ck_PTGC_2x.jpeg',\n",
       " 'ck_serositis_4x.jpg',\n",
       " 'ck_steatohepatitis_200x.jpg',\n",
       " 'ck_PTGC_5x.jpeg']"
      ]
     },
     "execution_count": 24,
     "metadata": {},
     "output_type": "execute_result"
    }
   ],
   "source": [
    "images_path = os.path.join(os.getcwd(), \"../pathology_test_data/images\")\n",
    "images_list = os.listdir(images_path)\n",
    "images_list"
   ]
  },
  {
   "cell_type": "markdown",
   "id": "a06e2ffd",
   "metadata": {},
   "source": [
    "#### Loading the Model Checkpoint and Image Processor"
   ]
  },
  {
   "cell_type": "code",
   "execution_count": 6,
   "id": "1c63fe77",
   "metadata": {},
   "outputs": [],
   "source": [
    "IMAGENET_MEAN = (0.485, 0.456, 0.406)\n",
    "IMAGENET_STD = (0.229, 0.224, 0.225)"
   ]
  },
  {
   "cell_type": "code",
   "execution_count": 7,
   "id": "c8533f28",
   "metadata": {},
   "outputs": [],
   "source": [
    "def build_transform(input_size):\n",
    "    MEAN, STD = IMAGENET_MEAN, IMAGENET_STD\n",
    "    transform = T.Compose([\n",
    "        T.Lambda(lambda img: img.convert('RGB') if img.mode != 'RGB' else img),\n",
    "        T.Resize((input_size, input_size), interpolation=InterpolationMode.BICUBIC),\n",
    "        T.ToTensor(),\n",
    "        T.Normalize(mean=MEAN, std=STD)\n",
    "    ])\n",
    "    return transform"
   ]
  },
  {
   "cell_type": "code",
   "execution_count": 8,
   "id": "e111b333",
   "metadata": {},
   "outputs": [],
   "source": [
    "def find_closest_aspect_ratio(aspect_ratio, target_ratios, width, height, image_size):\n",
    "    best_ratio_diff = float('inf')\n",
    "    best_ratio = (1, 1)\n",
    "    area = width * height\n",
    "    for ratio in target_ratios:\n",
    "        target_aspect_ratio = ratio[0] / ratio[1]\n",
    "        ratio_diff = abs(aspect_ratio - target_aspect_ratio)\n",
    "        if ratio_diff < best_ratio_diff:\n",
    "            best_ratio_diff = ratio_diff\n",
    "            best_ratio = ratio\n",
    "        elif ratio_diff == best_ratio_diff:\n",
    "            if area > 0.5 * image_size * image_size * ratio[0] * ratio[1]:\n",
    "                best_ratio = ratio\n",
    "    return best_ratio"
   ]
  },
  {
   "cell_type": "code",
   "execution_count": 9,
   "metadata": {},
   "outputs": [],
   "source": [
    "def dynamic_preprocess(image, min_num=1, max_num=12, image_size=448, use_thumbnail=False):\n",
    "    orig_width, orig_height = image.size\n",
    "    aspect_ratio = orig_width / orig_height\n",
    "\n",
    "    # calculate the existing image aspect ratio\n",
    "    target_ratios = set(\n",
    "        (i, j) for n in range(min_num, max_num + 1) for i in range(1, n + 1) for j in range(1, n + 1) if\n",
    "        i * j <= max_num and i * j >= min_num)\n",
    "    target_ratios = sorted(target_ratios, key=lambda x: x[0] * x[1])\n",
    "\n",
    "    # find the closest aspect ratio to the target\n",
    "    target_aspect_ratio = find_closest_aspect_ratio(\n",
    "        aspect_ratio, target_ratios, orig_width, orig_height, image_size)\n",
    "\n",
    "    # calculate the target width and height\n",
    "    target_width = image_size * target_aspect_ratio[0]\n",
    "    target_height = image_size * target_aspect_ratio[1]\n",
    "    blocks = target_aspect_ratio[0] * target_aspect_ratio[1]\n",
    "\n",
    "    # resize the image\n",
    "    resized_img = image.resize((target_width, target_height))\n",
    "    processed_images = []\n",
    "    for i in range(blocks):\n",
    "        box = (\n",
    "            (i % (target_width // image_size)) * image_size,\n",
    "            (i // (target_width // image_size)) * image_size,\n",
    "            ((i % (target_width // image_size)) + 1) * image_size,\n",
    "            ((i // (target_width // image_size)) + 1) * image_size\n",
    "        )\n",
    "        # split the image\n",
    "        split_img = resized_img.crop(box)\n",
    "        processed_images.append(split_img)\n",
    "    assert len(processed_images) == blocks\n",
    "    if use_thumbnail and len(processed_images) != 1:\n",
    "        thumbnail_img = image.resize((image_size, image_size))\n",
    "        processed_images.append(thumbnail_img)\n",
    "    return processed_images\n"
   ]
  },
  {
   "cell_type": "code",
   "execution_count": 10,
   "metadata": {},
   "outputs": [],
   "source": [
    "def load_image(image_file, input_size=448, max_num=12):\n",
    "    image = Image.open(image_file).convert('RGB')\n",
    "    transform = build_transform(input_size=input_size)\n",
    "    images = dynamic_preprocess(image, image_size=input_size, use_thumbnail=True, max_num=max_num)\n",
    "    pixel_values = [transform(image) for image in images]\n",
    "    pixel_values = torch.stack(pixel_values)\n",
    "    return pixel_values\n"
   ]
  },
  {
   "cell_type": "code",
   "execution_count": 11,
   "id": "7ac16742",
   "metadata": {},
   "outputs": [
    {
     "name": "stderr",
     "output_type": "stream",
     "text": [
      "Loading checkpoint shards: 100%|██████████| 4/4 [00:04<00:00,  1.14s/it]\n"
     ]
    }
   ],
   "source": [
    "model = AutoModel.from_pretrained(\n",
    "    \"OpenGVLab/InternVL3-8B\",\n",
    "    torch_dtype=torch.bfloat16,\n",
    "    load_in_8bit=False,\n",
    "    low_cpu_mem_usage=True,\n",
    "    use_flash_attn=True,\n",
    "    trust_remote_code=True,\n",
    "    device_map=\"auto\")\n",
    "\n",
    "model = model.cuda().eval()"
   ]
  },
  {
   "cell_type": "code",
   "execution_count": 12,
   "id": "61c23083",
   "metadata": {},
   "outputs": [],
   "source": [
    "tokenizer = AutoTokenizer.from_pretrained(\"OpenGVLab/InternVL3-8B\", trust_remote_code=True, use_fast=False)"
   ]
  },
  {
   "cell_type": "markdown",
   "id": "8c9f7e60",
   "metadata": {},
   "source": [
    "#### Creating the message structure"
   ]
  },
  {
   "cell_type": "code",
   "execution_count": 30,
   "id": "38b04516",
   "metadata": {},
   "outputs": [],
   "source": [
    "pixel_vals = []\n",
    "prompts = []\n",
    "num_patches_list = []\n",
    "\n",
    "for index, row in questions.iterrows():\n",
    "    image_path = os.path.join(images_path, row[\"image_name\"])\n",
    "    pixel_val = load_image(image_path, max_num=12).to(torch.bfloat16).cuda()\n",
    "    pixel_vals.append(pixel_val)\n",
    "    num_patches_list.append(pixel_val.size(0))\n",
    "\n",
    "    prompt = '<image>\\n' + row[\"question\"]\n",
    "    prompts.append(prompt)\n",
    "\n",
    "pixel_values = torch.cat(pixel_vals, dim=0)"
   ]
  },
  {
   "cell_type": "markdown",
   "id": "bf614a7b",
   "metadata": {},
   "source": [
    "#### Batch Inference"
   ]
  },
  {
   "cell_type": "code",
   "execution_count": 31,
   "id": "ad7a1e22",
   "metadata": {},
   "outputs": [
    {
     "name": "stderr",
     "output_type": "stream",
     "text": [
      "Setting `pad_token_id` to `eos_token_id`:151645 for open-end generation.\n"
     ]
    }
   ],
   "source": [
    "generation_config = dict(max_new_tokens=1024, do_sample=True)\n",
    "responses = model.batch_chat(tokenizer, pixel_values,\n",
    "                             num_patches_list=num_patches_list,\n",
    "                             questions=prompts,\n",
    "                             generation_config=generation_config)\n"
   ]
  },
  {
   "cell_type": "code",
   "execution_count": 32,
   "id": "7d5d4e90",
   "metadata": {},
   "outputs": [
    {
     "name": "stdout",
     "output_type": "stream",
     "text": [
      "User: <image>\n",
      "How can you best describe the low-power pattern observed in this image of a lymph node?\n",
      "Assistant: At low magnification, the lymph node shows the following histological features:\n",
      "\n",
      "- The **lymph node architecture is disrupted**, with large areas replaced by dense cell infiltrates.\n",
      "- There is **significant effacement** of the normal follicular and paracortical architecture.\n",
      "- **Large areas** are filled with **heterogeneous cell populations**, including small to medium-sized lymphocytes and a significant number of eosinophilic (purple-staining), likely necrotic cells.\n",
      "- **Lobular boundaries are obliterated**, and the normally distinct cortical and medullary areas are lost.\n",
      "- There are **white spaces or clear areas**, which could represent necrotic debris or spaces created by cell death.\n",
      "- **Areas of denser cellularity** with hyperchromatic nuclei may indicate regions of active neoplastic proliferation or high mitotic activity.\n",
      "\n",
      "Overall, the low-power pattern is characterized by a **lymph node converted into a homogeneous mass of atypical cells**, with loss of normal follicular and medullary structures and significant architectural disorganization.\n",
      "User: <image>\n",
      "What are three main differential diagnostic considerations if this lymph node was sampled from a young teenager with solitary adenopathy?\n",
      "Assistant: When reviewing a case of lymphadenopathy in a young teenager, consideration of three main differential diagnostic considerations is essential:\n",
      "\n",
      "1. **Infectious Causes**:\n",
      "   - **Infectious Mononucleosis** (Epstein-Barr Virus): Characterized by lymphocytosis and atypical lymphocytes.\n",
      "   - **Tuberculosis** (especially in regions where TB is endemic): May present as a granulomatous reaction with caseating necrosis.\n",
      "   - **Toxoplasmosis**: Caused by *Toxoplasma gondii* infection, often presenting with a granulomatous lymphadenitis.\n",
      "\n",
      "2. **Granulomatous Inflammation**:\n",
      "   - **Sarcoidosis**: Non-caseating granulomas without specific infectious etiology.\n",
      "   - **Foreign Body Granulomas**: Resulting from an unresolved chronic foreign body reaction.\n",
      "\n",
      "3. **Neoplastic Diseases**:\n",
      "   - **Hodgkin Lymphoma**: Characterized by the presence of Reed-Sternberg cells and typically presents with painless adenopathy.\n",
      "   - **Non-Hodgkin Lymphoma** (e.g., Lymphoblastic Lymphoma): In young individuals, it can present with solitary adenopathy and requires further immunophenotyping.\n",
      "   - **Metastatic Carcinoma**: Rare but important to consider if there is a known primary malignancy.\n",
      "\n",
      "Thus, the three main differential diagnostic considerations are:\n",
      "\n",
      "1. **Infectious Causes**\n",
      "2. **Granulomatous Inflammation**\n",
      "3. **Neoplastic Diseases**\n",
      "User: <image>\n",
      "What is the morphologic alteration being depicted in this enlarged solitary lymph node from a young child?\n",
      "Assistant: The morphologic alteration depicted is characterized by a diffuse infiltration of small, monotonous lymphoid cells replacing the normal trabecular architecture of the lymph node. Key features include:\n",
      "\n",
      "- Disruption of the lymphoid follicles\n",
      "- Areas of hypercellularity with parallel, fibrous bands\n",
      "- Absence of germinal centers\n",
      "- Presence of pseudovascular spaces lined by atypical epithelial-like cells\n",
      "- Evidence of necrosis and fibrosis\n",
      "\n",
      "These features are indicative of a primary lymphoma or a metastatic disease within the lymph node.\n",
      "User: <image>\n",
      "What is the expected immunoarchitecture of the  mantle cells in the alteration being depicted in the image?\n",
      "Assistant: The mantle cell lymphoma (MCL) has a characteristic immunoarchitecture that includes the following features:\n",
      "\n",
      "- A diffuse proliferation of small to medium-sized B cells.\n",
      "- These mantle cells are typically arranged in a 'mantle' pattern, forming sheets or clusters of cells.\n",
      "- They are intermingled with fewer small lymphocytes.\n",
      "- The cells often exhibit follicle center lymphoma (FCL) immunophenotype markers, including CD10, BCL2, and BCL6 expression.\n",
      "- The plasma cells are usually scant or absent.\n",
      "- The presence of infiltrative bands of tumor cells within the lymph node architecture is common.\n",
      "- Areas of fibrosis or sclerosis may be observed in advanced cases.\n",
      "\n",
      "Thus, the expected immunoarchitecture is characterized by a diffuse, mantle-like proliferation of small to medium-sized B cells with specific immunophenotypic markers and a characteristic lymph node architecture.\n",
      "User: <image>\n",
      "What is the most common source for the change depicted in this tissue from the bowel of a 8 day old neonate with distension?\n",
      "Assistant: The histopathological change depicted in the tissue from the bowel of an 8-day-old neonate with distension is most commonly due to meconium ileus. This condition results from an obstruction of the small bowel due to the accumulation of meconium, the first stool of the newborn, which is characterized by its high iron and phospholipid content. In conditions like cystic fibrosis, there is impaired electrolyte (particularly sodium and chloride) and water absorption in the intestine, leading to the formation of sticky, thick meconium that cannot be passed, causing intestinal obstruction.\n",
      "\n",
      "Other possible causes for bowel distension in a neonate include:\n",
      "\n",
      "1. **Hypertrophic pyloric stenosis**: Leads to recurrent vomiting and abdominal distension.\n",
      "2. **Intestinal atresias or obstructions**: Such as duodenal obstruction.\n",
      "3. **Meconium plug syndrome**: Less specific but still a potential cause.\n",
      "4. **Congenital malformations**: Such as Hirschsprung's disease, which can present similarly but with a distinct histological pattern.\n",
      "\n",
      "Given the histological features suggestive of meconium accumulation and the clinical presentation of distension in a neonate, meconium ileus is typically the primary consideration.\n",
      "User: <image>\n",
      "What is the specific anatomic region shown in the image on the right half of the image?\n",
      "Assistant: The specific anatomic region shown on the right half of the image is the **Muscularis propria** of the colon. This region consists of thick, obliquely oriented smooth muscle fibers that form the muscularis externa. It lacks the glandular structures seen in the mucosa layer.\n",
      "User: <image>\n",
      "If these histologic changes included conspicuous portal plasma cells, what would be the primary consideration for the diagnosis?\n",
      "Assistant: If conspicuous portal plasma cells are present along with architectural distortion similar to alcoholic liver disease, the primary consideration for the diagnosis would be autoimmune hepatitis. Specifically, the combination of portal inflammation with plasma cell infiltration (typically >10 plasma cells/high-power field) leads to a suspicion of autoimmune hepatitis rather than alcoholic liver disease.\n",
      "\n",
      "Thus, the primary consideration for the diagnosis is:\n",
      "\\[\n",
      "\\boxed{\\text{Autoimmune Hepatitis}}\n",
      "\\]\n",
      "User: <image>\n",
      "What would the primary histologic feature to suggest a diagnosis of Wilson's disease from the image?\n",
      "Assistant: The primary histologic feature to suggest a diagnosis of Wilson's disease from the image is the presence of **spherical cyst-like spaces in the liver parenchyma**. These spaces represent foam cells, which are macrophages that have taken up excess copper. The image shows a liver section with:\n",
      "\n",
      "\\\\[\n",
      "\\\\text{Spherical cyst-like spaces} = \\\\text{Foam cells filled with accumulated copper}\n",
      "\\\\]\n",
      "\n",
      "Thus, the primary histologic feature is:\n",
      "\n",
      "\\\\[\n",
      "\\\\boxed{\\\\text{Spherical cyst-like spaces in the liver parenchyma}}\n",
      "\\\\]\n",
      "User: <image>\n",
      "In an overweight adolescent with mildly increased transaminases, what diagnosis do the portal changes here suggest?\n",
      "Assistant: In an overweight adolescent with mildly increased transaminases, the portal changes featuring fibrous bands separating nodules suggest the diagnosis of **fatty liver disease (non-alcoholic steatohepatitis, NASH)**. The underlying cause is suspected to be metabolic in nature, related to the patient's overweight status.\n"
     ]
    }
   ],
   "source": [
    "for question, response in zip(prompts, responses):\n",
    "    print(f'User: {question}\\nAssistant: {response}')"
   ]
  },
  {
   "cell_type": "markdown",
   "id": "f181e944",
   "metadata": {},
   "source": [
    "#### Storing the output Responses"
   ]
  },
  {
   "cell_type": "code",
   "execution_count": 34,
   "id": "648b2107",
   "metadata": {},
   "outputs": [],
   "source": [
    "os.makedirs(\"./responses\", exist_ok=True)\n",
    "questions['intern-vl3-response'] = responses\n",
    "questions.to_csv(\"./responses/intern_vl3_responses.csv\", index=False)"
   ]
  },
  {
   "cell_type": "code",
   "execution_count": null,
   "id": "7a1077f1",
   "metadata": {},
   "outputs": [],
   "source": []
  }
 ],
 "metadata": {
  "kernelspec": {
   "display_name": "path-opendata",
   "language": "python",
   "name": "python3"
  },
  "language_info": {
   "codemirror_mode": {
    "name": "ipython",
    "version": 3
   },
   "file_extension": ".py",
   "mimetype": "text/x-python",
   "name": "python",
   "nbconvert_exporter": "python",
   "pygments_lexer": "ipython3",
   "version": "3.10.18"
  }
 },
 "nbformat": 4,
 "nbformat_minor": 5
}
