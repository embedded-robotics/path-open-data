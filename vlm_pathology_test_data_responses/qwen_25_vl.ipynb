{
 "cells": [
  {
   "cell_type": "markdown",
   "id": "9d71d051",
   "metadata": {},
   "source": [
    "https://huggingface.co/Qwen/Qwen2.5-VL-7B-Instruct \\\n",
    "https://github.com/QwenLM/Qwen2.5-VL"
   ]
  },
  {
   "cell_type": "code",
   "execution_count": 1,
   "id": "4a4af1b5",
   "metadata": {},
   "outputs": [],
   "source": [
    "import os"
   ]
  },
  {
   "cell_type": "code",
   "execution_count": 2,
   "id": "0fc7e4d6",
   "metadata": {},
   "outputs": [],
   "source": [
    "# Set CUDA_VISIBLE_DEVICES to expose only device 0\n",
    "os.environ[\"CUDA_VISIBLE_DEVICES\"] = \"0\"\n",
    "\n",
    "# Set CUDA_VISIBLE_DEVICES to expose devices 0, 1, 2, and 3\n",
    "# os.environ[\"CUDA_VISIBLE_DEVICES\"] = \"0,1,2,3\""
   ]
  },
  {
   "cell_type": "code",
   "execution_count": 3,
   "id": "871e1ed3",
   "metadata": {},
   "outputs": [
    {
     "name": "stderr",
     "output_type": "stream",
     "text": [
      "/data/mn27889/miniconda3/envs/path-opendata/lib/python3.10/site-packages/tqdm/auto.py:21: TqdmWarning: IProgress not found. Please update jupyter and ipywidgets. See https://ipywidgets.readthedocs.io/en/stable/user_install.html\n",
      "  from .autonotebook import tqdm as notebook_tqdm\n"
     ]
    }
   ],
   "source": [
    "import torch\n",
    "import pandas as pd\n",
    "from transformers import Qwen2_5_VLForConditionalGeneration, AutoTokenizer, AutoProcessor\n",
    "from qwen_vl_utils import process_vision_info"
   ]
  },
  {
   "cell_type": "markdown",
   "id": "c25d49fa",
   "metadata": {},
   "source": [
    "#### Reading the Pathology Test Data"
   ]
  },
  {
   "cell_type": "code",
   "execution_count": 4,
   "id": "f82ce347",
   "metadata": {},
   "outputs": [
    {
     "data": {
      "text/html": [
       "<div>\n",
       "<style scoped>\n",
       "    .dataframe tbody tr th:only-of-type {\n",
       "        vertical-align: middle;\n",
       "    }\n",
       "\n",
       "    .dataframe tbody tr th {\n",
       "        vertical-align: top;\n",
       "    }\n",
       "\n",
       "    .dataframe thead th {\n",
       "        text-align: right;\n",
       "    }\n",
       "</style>\n",
       "<table border=\"1\" class=\"dataframe\">\n",
       "  <thead>\n",
       "    <tr style=\"text-align: right;\">\n",
       "      <th></th>\n",
       "      <th>image_name</th>\n",
       "      <th>question</th>\n",
       "      <th>answer</th>\n",
       "    </tr>\n",
       "  </thead>\n",
       "  <tbody>\n",
       "    <tr>\n",
       "      <th>0</th>\n",
       "      <td>ck_PTGC_2x.jpeg</td>\n",
       "      <td>How can you best describe the low-power patter...</td>\n",
       "      <td>The lymph node shows a mixed follicular and in...</td>\n",
       "    </tr>\n",
       "    <tr>\n",
       "      <th>1</th>\n",
       "      <td>ck_PTGC_2x.jpeg</td>\n",
       "      <td>What are three main differential diagnostic co...</td>\n",
       "      <td>Based on the low-power pattern, the primary co...</td>\n",
       "    </tr>\n",
       "    <tr>\n",
       "      <th>2</th>\n",
       "      <td>ck_PTGC_5x.jpeg</td>\n",
       "      <td>What is the morphologic alteration being depic...</td>\n",
       "      <td>The image shows a central enlarged, somewhat i...</td>\n",
       "    </tr>\n",
       "    <tr>\n",
       "      <th>3</th>\n",
       "      <td>ck_PTGC_5x.jpeg</td>\n",
       "      <td>What is the expected immunoarchitecture of the...</td>\n",
       "      <td>This image shows an enlarged secondary follicl...</td>\n",
       "    </tr>\n",
       "    <tr>\n",
       "      <th>4</th>\n",
       "      <td>ck_serositis_4x.jpg</td>\n",
       "      <td>What is the most common source for the change ...</td>\n",
       "      <td>The changes here show extensive serositis, wit...</td>\n",
       "    </tr>\n",
       "    <tr>\n",
       "      <th>5</th>\n",
       "      <td>ck_serositis_4x.jpg</td>\n",
       "      <td>What is the specific anatomic region shown in ...</td>\n",
       "      <td>The right half shows the muscularis propria an...</td>\n",
       "    </tr>\n",
       "    <tr>\n",
       "      <th>6</th>\n",
       "      <td>ck_steatohepatitis_100x.jpg</td>\n",
       "      <td>If these histologic changes included conspicuo...</td>\n",
       "      <td>There is fatty liver disease and if concurrent...</td>\n",
       "    </tr>\n",
       "    <tr>\n",
       "      <th>7</th>\n",
       "      <td>ck_steatohepatitis_100x.jpg</td>\n",
       "      <td>What would the primary histologic feature to s...</td>\n",
       "      <td>Wilson's disease has many non-specific finding...</td>\n",
       "    </tr>\n",
       "    <tr>\n",
       "      <th>8</th>\n",
       "      <td>ck_steatohepatitis_200x.jpg</td>\n",
       "      <td>In an overweight adolescent with mildly increa...</td>\n",
       "      <td>In the background of steatosis, there is incre...</td>\n",
       "    </tr>\n",
       "  </tbody>\n",
       "</table>\n",
       "</div>"
      ],
      "text/plain": [
       "                    image_name  \\\n",
       "0              ck_PTGC_2x.jpeg   \n",
       "1              ck_PTGC_2x.jpeg   \n",
       "2              ck_PTGC_5x.jpeg   \n",
       "3              ck_PTGC_5x.jpeg   \n",
       "4          ck_serositis_4x.jpg   \n",
       "5          ck_serositis_4x.jpg   \n",
       "6  ck_steatohepatitis_100x.jpg   \n",
       "7  ck_steatohepatitis_100x.jpg   \n",
       "8  ck_steatohepatitis_200x.jpg   \n",
       "\n",
       "                                            question  \\\n",
       "0  How can you best describe the low-power patter...   \n",
       "1  What are three main differential diagnostic co...   \n",
       "2  What is the morphologic alteration being depic...   \n",
       "3  What is the expected immunoarchitecture of the...   \n",
       "4  What is the most common source for the change ...   \n",
       "5  What is the specific anatomic region shown in ...   \n",
       "6  If these histologic changes included conspicuo...   \n",
       "7  What would the primary histologic feature to s...   \n",
       "8  In an overweight adolescent with mildly increa...   \n",
       "\n",
       "                                              answer  \n",
       "0  The lymph node shows a mixed follicular and in...  \n",
       "1  Based on the low-power pattern, the primary co...  \n",
       "2  The image shows a central enlarged, somewhat i...  \n",
       "3  This image shows an enlarged secondary follicl...  \n",
       "4  The changes here show extensive serositis, wit...  \n",
       "5  The right half shows the muscularis propria an...  \n",
       "6  There is fatty liver disease and if concurrent...  \n",
       "7  Wilson's disease has many non-specific finding...  \n",
       "8  In the background of steatosis, there is incre...  "
      ]
     },
     "execution_count": 4,
     "metadata": {},
     "output_type": "execute_result"
    }
   ],
   "source": [
    "questions = pd.read_csv(\"../pathology_test_data/questions.csv\")\n",
    "questions"
   ]
  },
  {
   "cell_type": "code",
   "execution_count": 5,
   "id": "34a45849",
   "metadata": {},
   "outputs": [
    {
     "data": {
      "text/plain": [
       "['ck_steatohepatitis_100x.jpg',\n",
       " 'ck_PTGC_2x.jpeg',\n",
       " 'ck_serositis_4x.jpg',\n",
       " 'ck_steatohepatitis_200x.jpg',\n",
       " 'ck_PTGC_5x.jpeg']"
      ]
     },
     "execution_count": 5,
     "metadata": {},
     "output_type": "execute_result"
    }
   ],
   "source": [
    "images_path = os.path.join(os.getcwd(), \"../pathology_test_data/images\")\n",
    "images_list = os.listdir(images_path)\n",
    "images_list"
   ]
  },
  {
   "cell_type": "markdown",
   "id": "2c84d8a7",
   "metadata": {},
   "source": [
    "#### Loading the Model Checkpoint and Image Processor"
   ]
  },
  {
   "cell_type": "code",
   "execution_count": 6,
   "id": "964104b9",
   "metadata": {},
   "outputs": [
    {
     "name": "stderr",
     "output_type": "stream",
     "text": [
      "Loading checkpoint shards: 100%|██████████| 5/5 [00:04<00:00,  1.16it/s]\n"
     ]
    }
   ],
   "source": [
    "# We recommend enabling flash_attention_2 for better acceleration and memory saving, especially in multi-image and video scenarios.\n",
    "model = Qwen2_5_VLForConditionalGeneration.from_pretrained(\n",
    "    \"Qwen/Qwen2.5-VL-7B-Instruct\",\n",
    "    torch_dtype=torch.bfloat16,\n",
    "    attn_implementation=\"flash_attention_2\",\n",
    "    device_map=\"auto\",\n",
    ")"
   ]
  },
  {
   "cell_type": "code",
   "execution_count": 7,
   "metadata": {},
   "outputs": [
    {
     "name": "stderr",
     "output_type": "stream",
     "text": [
      "The image processor of type `Qwen2VLImageProcessor` is now loaded as a fast processor by default, even if the model checkpoint was saved with a slow processor. This is a breaking change and may produce slightly different outputs. To continue using the slow processor, instantiate this class with `use_fast=False`. Note that this behavior will be extended to all models in a future release.\n"
     ]
    },
    {
     "name": "stderr",
     "output_type": "stream",
     "text": [
      "You have video processor config saved in `preprocessor.json` file which is deprecated. Video processor configs should be saved in their own `video_preprocessor.json` file. You can rename the file or load and save the processor back which renames it automatically. Loading from `preprocessor.json` will be removed in v5.0.\n"
     ]
    }
   ],
   "source": [
    "# default processor\n",
    "processor = AutoProcessor.from_pretrained(\"Qwen/Qwen2.5-VL-7B-Instruct\")\n",
    "processor.tokenizer.padding_side = \"left\""
   ]
  },
  {
   "cell_type": "markdown",
   "id": "0aac0f22",
   "metadata": {},
   "source": [
    "#### Creating the message structure"
   ]
  },
  {
   "cell_type": "code",
   "execution_count": 8,
   "metadata": {},
   "outputs": [],
   "source": [
    "messages = []\n",
    "for index, row in questions.iterrows():\n",
    "    image_path = os.path.join(images_path, row[\"image_name\"])\n",
    "    question = row[\"question\"]\n",
    "    \n",
    "    message =[\n",
    "        {\n",
    "            \"role\": \"user\",\n",
    "            \"content\": [\n",
    "                {\n",
    "                    \"type\": \"image\",\n",
    "                    \"image\": image_path,\n",
    "                },\n",
    "                {\"type\": \"text\", \"text\": question},\n",
    "            ],\n",
    "        }\n",
    "    ]\n",
    "    \n",
    "    messages.append(message)"
   ]
  },
  {
   "cell_type": "markdown",
   "id": "3ce9d3fb",
   "metadata": {},
   "source": [
    "#### Batch Images Inference"
   ]
  },
  {
   "cell_type": "code",
   "execution_count": 9,
   "id": "6c46597d",
   "metadata": {},
   "outputs": [],
   "source": [
    "# Preparation for inference\n",
    "texts = [\n",
    "    processor.apply_chat_template(msg, tokenize=False, add_generation_prompt=True) for msg in messages\n",
    "]"
   ]
  },
  {
   "cell_type": "code",
   "execution_count": 10,
   "id": "2054c575",
   "metadata": {},
   "outputs": [],
   "source": [
    "image_inputs, video_inputs = process_vision_info(messages)"
   ]
  },
  {
   "cell_type": "code",
   "execution_count": 11,
   "id": "970b9d9c",
   "metadata": {},
   "outputs": [],
   "source": [
    "inputs = processor(\n",
    "    text=texts,\n",
    "    images=image_inputs,\n",
    "    videos=video_inputs,\n",
    "    padding=True,\n",
    "    return_tensors=\"pt\",\n",
    ")\n",
    "inputs = inputs.to(model.device)"
   ]
  },
  {
   "cell_type": "code",
   "execution_count": 12,
   "id": "f912e827",
   "metadata": {},
   "outputs": [],
   "source": [
    "# Batch Inference\n",
    "generated_ids = model.generate(**inputs, max_new_tokens=1024)\n",
    "generated_ids_trimmed = [\n",
    "    out_ids[len(in_ids) :] for in_ids, out_ids in zip(inputs.input_ids, generated_ids)\n",
    "]"
   ]
  },
  {
   "cell_type": "code",
   "execution_count": 13,
   "id": "5f0aa0a7",
   "metadata": {},
   "outputs": [],
   "source": [
    "output_texts = processor.batch_decode(\n",
    "    generated_ids_trimmed, skip_special_tokens=True, clean_up_tokenization_spaces=False\n",
    ")"
   ]
  },
  {
   "cell_type": "code",
   "execution_count": 14,
   "id": "ff739785",
   "metadata": {},
   "outputs": [
    {
     "data": {
      "text/plain": [
       "['The provided image appears to be a histological section stained with hematoxylin and eosin (H&E), which is commonly used for examining tissue samples under a microscope. The image shows two distinct areas, likely representing different sections or structures within a lymph node.\\n\\n### Key Observations:\\n1. **Left Side**: This area appears to have a more compact, densely packed structure with less interstitial space. It could represent a region of dense connective tissue or a specific type of cell aggregation.\\n2. **Right Side**: This area has a more open, less densely packed structure with visible spaces between the cellular elements. This could indicate a region with more lymphoid tissue, possibly representing a lymphoid follicle or a sinusoidal region where lymphocytes are found.\\n\\n### Interpretation:\\n- The left side might represent a region of dense connective tissue or fibrosis.\\n- The right side could represent a lymphoid region, such as a lymphoid follicle or a sinusoidal region where lymphocytes are found.\\n\\n### General Pattern:\\n- The overall pattern suggests a section through a lymph node, with one side showing a more fibrotic or dense area and the other side showing a more lymphoid region.\\n\\n### Conclusion:\\nThis image is consistent with a histological section of a lymph node, showing a contrast between a denser, possibly fibrotic area and a more lymphoid region. The specific interpretation would depend on clinical context and additional staining or imaging techniques that may be applied.',\n",
       " \"The image you provided appears to be a histological section of a lymph node, likely stained with hematoxylin and eosin (H&E). Here are three main differential diagnostic considerations for a lymph node biopsy in a young teenager with solitary adenopathy:\\n\\n1. **Lymphoma**: This is a broad term that includes various types of cancerous lymphoid tumors. The presence of atypical lymphocytes, increased mitotic figures, or abnormal architecture could suggest lymphoma. However, the absence of these features does not rule out lymphoma entirely, as some cases may present with subtle changes.\\n\\n2. **Infectious Lymphadenitis**: Infections such as tuberculosis, fungal infections, or viral infections like HIV can cause reactive hyperplasia of the lymph nodes. The appearance of the lymph node in the image does not provide enough detail to definitively diagnose an infectious process, but the context of the clinical presentation would be crucial.\\n\\n3. **Benign Reactive Hyperplasia**: This is a common finding in lymph nodes where there is an inflammatory response, often due to infection or other stimuli. The lymph node may show reactive hyperplasia with follicular hyperplasia, germinal center enlargement, and increased numbers of lymphocytes. The lack of atypia and the overall architectural preservation favor a benign process over malignancy.\\n\\nTo make a definitive diagnosis, additional information such as the patient's clinical history, physical examination findings, and possibly further investigations like flow cytometry, immunohistochemistry, or molecular studies would be necessary. A pathologist would need to review the slide under high magnification to assess the cellular and architectural features more closely.\",\n",
       " \"The image you provided appears to be a histological section stained with hematoxylin and eosin (H&E), which is commonly used for examining tissue samples under a microscope. The staining highlights different components of the tissue, with nuclei appearing blue/purple and cytoplasm appearing pink.\\n\\nIn this particular image, the tissue appears to have a relatively uniform appearance with a dense network of fibrous connective tissue. There are no obvious signs of inflammation, necrosis, or other specific pathologies that would be characteristic of certain diseases. However, without more context about the clinical presentation and the patient's history, it is difficult to make a definitive diagnosis based on this single image alone.\\n\\nIf this is indeed a lymph node biopsy, the lack of significant cellular atypia or abnormal architecture might suggest a reactive process rather than malignancy. However, a definitive interpretation requires correlation with clinical information, imaging studies, and possibly additional pathological features not visible in this image.\\n\\nFor a precise diagnosis, it would be necessary to consult with a pathologist who can review the entire slide and consider all available clinical data.\",\n",
       " 'The image you provided appears to be a histological section stained with hematoxylin and eosin (H&E), which is commonly used for examining tissue samples under a microscope. The staining highlights different cellular components and extracellular matrix, with nuclei appearing dark purple and cytoplasm and connective tissues appearing lighter.\\n\\nIn this particular image, the tissue appears to have a relatively uniform appearance with a dense network of fibrous connective tissue. There are no obvious signs of inflammation or significant cellular atypia that would suggest a specific pathological condition. However, without more context about the tissue type and clinical history, it\\'s challenging to provide a definitive diagnosis.\\n\\nIf this image represents mantle cell lymphoma (MCL), which is a type of non-Hodgkin lymphoma, the typical features might include:\\n\\n- A dense population of small to medium-sized lymphocytes with a characteristic \"starry sky\" pattern due to the presence of tingible body macrophages.\\n- Mantle zone-like architecture with a follicular pattern.\\n- Presence of Reed-Sternberg-like cells in some cases.\\n\\nHowever, these features are not clearly visible in the image provided. For a precise diagnosis, a detailed analysis by a pathologist is necessary, along with additional immunohistochemical stains and possibly molecular studies.\\n\\nIf you need further assistance or have more information about the tissue sample, please provide additional details so I can offer a more accurate interpretation.',\n",
       " \"The image you provided appears to be a histological section stained with hematoxylin and eosin (H&E), which is commonly used in pathology to visualize different cell types and structures within tissues. The tissue shows a section of bowel wall, likely from a neonate, given the context.\\n\\nThe changes observed in the tissue include:\\n\\n1. **Hyperplasia of the mucosa**: The epithelial cells lining the bowel appear to be hyperplastic, meaning there is an increase in the number of cells in the mucosal layer.\\n2. **Inflammatory infiltrate**: There is an infiltration of inflammatory cells, particularly lymphocytes and plasma cells, in the lamina propria and submucosa.\\n3. **Distension**: The bowel lumen appears to be distended, which could be due to fluid or gas accumulation.\\n\\nGiven these observations, the most common source for such changes in a 8-day-old neonate with bowel distension would be **gastrointestinal atresia** or **malrotation with volvulus**. However, without more clinical information and additional imaging studies, it's difficult to make a definitive diagnosis.\\n\\n- **Gastrointestinal Atresia**: This condition occurs when the gastrointestinal tract fails to form properly during fetal development, leading to a blockage that can cause distension. The hyperplasia of the mucosa and inflammatory infiltrate could be secondary to the obstruction and associated inflammation.\\n- **Malrotation with Volvulus**: This is another congenital anomaly where the intestines are twisted around the mesenteric axis, leading to obstruction and potential ischemia. The distension and inflammatory changes could also be related to this condition.\\n\\nFor a precise diagnosis, a combination of clinical history, physical examination, imaging studies (such as ultrasound or CT scan), and possibly endoscopic evaluation would be necessary. A pediatric gastroenterologist or a pediatric surgeon would typically be involved in the management of such cases.\",\n",
       " \"The image on the right half appears to show a section of connective tissue, which could be part of various anatomical regions depending on the context. However, without additional information or a full view of the sample, it's difficult to determine the exact anatomic region. Connective tissue can be found in many parts of the body, including the skin, muscles, bones, and internal organs.\\n\\nIf this is a histological section from a gastrointestinal tract, the connective tissue might be part of the submucosa or the muscularis propria. If it's from a different organ, it could be part of the surrounding connective tissue that supports the organ.\\n\\nFor a precise identification, more context about the sample (e.g., where it was taken from) would be necessary.\",\n",
       " \"The image you've provided appears to be a histological section stained with hematoxylin and eosin (H&E), which is commonly used in pathology to visualize tissue architecture and cellular details. The presence of plasma cells in the portal areas can be indicative of various conditions, but the primary considerations for the diagnosis would depend on the context and other features observed in the slide.\\n\\nPlasma cells are typically found in the periportal regions of the liver in cases of chronic hepatitis, autoimmune hepatitis, or certain types of liver inflammation. However, the presence of plasma cells alone does not definitively diagnose any specific condition; it is often part of a broader evaluation that includes clinical history, laboratory tests, and possibly additional histological features.\\n\\nHere are some potential considerations:\\n\\n1. **Chronic Hepatitis**: Plasma cells in the portal tracts are often seen in chronic hepatitis, particularly in cases associated with viral hepatitis (e.g., hepatitis B or C) or autoimmune hepatitis.\\n   \\n2. **Autoimmune Hepatitis**: This condition is characterized by an inflammatory response in the liver, often involving plasma cells in the portal tracts. Autoimmune markers such as antinuclear antibodies (ANA) and anti-smooth muscle antibodies (ASMA) may be positive.\\n\\n3. **Drug-Induced Liver Injury**: Some drugs can cause liver injury leading to inflammation and the presence of plasma cells in the portal tracts.\\n\\n4. **Other Inflammatory Conditions**: Certain infections or other inflammatory processes can also lead to the presence of plasma cells in the liver.\\n\\nTo make a definitive diagnosis, a pathologist would consider the following:\\n- The overall pattern of inflammation.\\n- The degree of hepatocyte damage.\\n- The presence of other inflammatory cells like lymphocytes and neutrophils.\\n- The distribution of the plasma cells (whether they are primarily in the portal tracts or within the lobules).\\n- Any associated fibrosis or regenerative changes.\\n\\nIn summary, while the presence of plasma cells in the portal tracts is suggestive of certain conditions, a comprehensive evaluation is necessary to determine the exact diagnosis.\",\n",
       " \"The image you provided appears to be a histological section stained with hematoxylin and eosin (H&E), which is commonly used in pathology for general tissue examination. Wilson's disease, also known as hepatolenticular degeneration, is characterized by copper accumulation in the liver and other tissues.\\n\\nIn a histological section, the primary features that might suggest Wilson's disease include:\\n\\n1. **Kupffer cell hyperplasia**: These are the macrophages in the liver that can accumulate copper.\\n2. **Copper deposition**: This can be seen as granular or amorphous deposits within the cytoplasm of hepatocytes and Kupffer cells.\\n3. **Fibrosis**: There may be evidence of fibrotic changes in the liver parenchyma.\\n4. **Nodular regenerative hyperplasia**: This can occur due to the chronic liver damage.\\n5. **Hemosiderosis**: While not specific to Wilson's disease, it could be present if there is concurrent iron overload.\\n\\nHowever, these features are often subtle and require a detailed analysis by a pathologist. The image alone does not provide enough information to definitively diagnose Wilson's disease. A definitive diagnosis typically requires clinical correlation, biochemical tests (such as serum ceruloplasmin levels and 24-hour urinary copper excretion), and genetic testing for the ATP7B gene mutation.\",\n",
       " \"The image suggests\\n addCriterion\\nThe image you provided appears to be a histological section stained with hematoxylin and eosin (H&E), which is commonly used in pathology for examining tissue samples under a microscope. The pattern of cellular infiltration and the presence of inflammatory cells within the portal tracts are characteristic findings that can be associated with various liver diseases.\\n\\nGiven the context of an overweight adolescent with mildly increased transaminases, the portal changes seen in the image could suggest non-alcoholic fatty liver disease (NAFLD) or non-alcoholic steatohepatitis (NASH). These conditions are often associated with obesity and can lead to inflammation and fibrosis in the liver, as seen in the image where there is evidence of portal inflammation and possible fibrosis.\\n\\nHowever, it's important to note that a definitive diagnosis requires clinical correlation, laboratory tests, and possibly further imaging studies such as ultrasound or liver biopsy. A pathologist would need to interpret this slide along with the patient's clinical history and other diagnostic information to provide a precise diagnosis.\"]"
      ]
     },
     "execution_count": 14,
     "metadata": {},
     "output_type": "execute_result"
    }
   ],
   "source": [
    "output_texts"
   ]
  },
  {
   "cell_type": "markdown",
   "id": "5822d1f6",
   "metadata": {},
   "source": [
    "#### Storing the output Responses"
   ]
  },
  {
   "cell_type": "code",
   "execution_count": 15,
   "id": "670296cc",
   "metadata": {},
   "outputs": [],
   "source": [
    "os.makedirs(\"./responses\", exist_ok=True)\n",
    "questions['qwen_25_vl_response'] = output_texts\n",
    "questions.to_csv(\"./responses/qwen_25_vl_responses.csv\", index=False)"
   ]
  },
  {
   "cell_type": "code",
   "execution_count": null,
   "id": "d954880e",
   "metadata": {},
   "outputs": [],
   "source": []
  }
 ],
 "metadata": {
  "kernelspec": {
   "display_name": "path-opendata",
   "language": "python",
   "name": "python3"
  },
  "language_info": {
   "codemirror_mode": {
    "name": "ipython",
    "version": 3
   },
   "file_extension": ".py",
   "mimetype": "text/x-python",
   "name": "python",
   "nbconvert_exporter": "python",
   "pygments_lexer": "ipython3",
   "version": "3.10.18"
  }
 },
 "nbformat": 4,
 "nbformat_minor": 5
}
