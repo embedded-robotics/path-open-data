{
 "cells": [
  {
   "cell_type": "markdown",
   "id": "430c1ad8",
   "metadata": {},
   "source": [
    "https://huggingface.co/collections/google/medgemma-release-680aade845f90bec6a3f60c4 \\\n",
    "https://huggingface.co/google/medgemma-4b-it"
   ]
  },
  {
   "cell_type": "code",
   "execution_count": 9,
   "id": "ec84aa0e",
   "metadata": {},
   "outputs": [],
   "source": [
    "import os\n",
    "import sys"
   ]
  },
  {
   "cell_type": "code",
   "execution_count": 10,
   "id": "fc1c5d78",
   "metadata": {},
   "outputs": [],
   "source": [
    "# Set CUDA_VISIBLE_DEVICES to expose only device 0\n",
    "os.environ[\"CUDA_VISIBLE_DEVICES\"] = \"0\"\n",
    "\n",
    "# Set CUDA_VISIBLE_DEVICES to expose devices 0, 1, 2, and 3\n",
    "# os.environ[\"CUDA_VISIBLE_DEVICES\"] = \"0,1,2,3\""
   ]
  },
  {
   "cell_type": "code",
   "execution_count": 11,
   "id": "5451ef50",
   "metadata": {},
   "outputs": [],
   "source": [
    "from transformers import AutoProcessor, AutoModelForImageTextToText\n",
    "from PIL import Image\n",
    "import requests\n",
    "import torch\n",
    "import pandas as pd"
   ]
  },
  {
   "cell_type": "markdown",
   "id": "0ded80b9",
   "metadata": {},
   "source": [
    "#### Reading the Pathology Test Data"
   ]
  },
  {
   "cell_type": "code",
   "execution_count": 12,
   "id": "3f7d6514",
   "metadata": {},
   "outputs": [
    {
     "data": {
      "text/html": [
       "<div>\n",
       "<style scoped>\n",
       "    .dataframe tbody tr th:only-of-type {\n",
       "        vertical-align: middle;\n",
       "    }\n",
       "\n",
       "    .dataframe tbody tr th {\n",
       "        vertical-align: top;\n",
       "    }\n",
       "\n",
       "    .dataframe thead th {\n",
       "        text-align: right;\n",
       "    }\n",
       "</style>\n",
       "<table border=\"1\" class=\"dataframe\">\n",
       "  <thead>\n",
       "    <tr style=\"text-align: right;\">\n",
       "      <th></th>\n",
       "      <th>image_name</th>\n",
       "      <th>question</th>\n",
       "      <th>original_responses</th>\n",
       "    </tr>\n",
       "  </thead>\n",
       "  <tbody>\n",
       "    <tr>\n",
       "      <th>0</th>\n",
       "      <td>ck_PTGC_2x.jpeg</td>\n",
       "      <td>How can you best describe the low-power patter...</td>\n",
       "      <td>The lymph node shows a mixed follicular and in...</td>\n",
       "    </tr>\n",
       "    <tr>\n",
       "      <th>1</th>\n",
       "      <td>ck_PTGC_2x.jpeg</td>\n",
       "      <td>What are three main differential diagnostic co...</td>\n",
       "      <td>Based on the low-power pattern, the primary co...</td>\n",
       "    </tr>\n",
       "    <tr>\n",
       "      <th>2</th>\n",
       "      <td>ck_PTGC_5x.jpeg</td>\n",
       "      <td>What is the morphologic alteration being depic...</td>\n",
       "      <td>The image shows a central enlarged, somewhat i...</td>\n",
       "    </tr>\n",
       "    <tr>\n",
       "      <th>3</th>\n",
       "      <td>ck_PTGC_5x.jpeg</td>\n",
       "      <td>What is the expected immunoarchitecture of the...</td>\n",
       "      <td>This image shows an enlarged secondary follicl...</td>\n",
       "    </tr>\n",
       "    <tr>\n",
       "      <th>4</th>\n",
       "      <td>ck_serositis_4x.jpg</td>\n",
       "      <td>What is the most common source for the change ...</td>\n",
       "      <td>The changes here show extensive serositis, wit...</td>\n",
       "    </tr>\n",
       "    <tr>\n",
       "      <th>5</th>\n",
       "      <td>ck_serositis_4x.jpg</td>\n",
       "      <td>What is the specific anatomic region shown in ...</td>\n",
       "      <td>The right half shows the muscularis propria an...</td>\n",
       "    </tr>\n",
       "    <tr>\n",
       "      <th>6</th>\n",
       "      <td>ck_steatohepatitis_100x.jpg</td>\n",
       "      <td>If these histologic changes included conspicuo...</td>\n",
       "      <td>There is fatty liver disease and if concurrent...</td>\n",
       "    </tr>\n",
       "    <tr>\n",
       "      <th>7</th>\n",
       "      <td>ck_steatohepatitis_100x.jpg</td>\n",
       "      <td>What would the primary histologic feature to s...</td>\n",
       "      <td>Wilson's disease has many non-specific finding...</td>\n",
       "    </tr>\n",
       "    <tr>\n",
       "      <th>8</th>\n",
       "      <td>ck_steatohepatitis_200x.jpg</td>\n",
       "      <td>In an overweight adolescent with mildly increa...</td>\n",
       "      <td>In the background of steatosis, there is incre...</td>\n",
       "    </tr>\n",
       "  </tbody>\n",
       "</table>\n",
       "</div>"
      ],
      "text/plain": [
       "                    image_name  \\\n",
       "0              ck_PTGC_2x.jpeg   \n",
       "1              ck_PTGC_2x.jpeg   \n",
       "2              ck_PTGC_5x.jpeg   \n",
       "3              ck_PTGC_5x.jpeg   \n",
       "4          ck_serositis_4x.jpg   \n",
       "5          ck_serositis_4x.jpg   \n",
       "6  ck_steatohepatitis_100x.jpg   \n",
       "7  ck_steatohepatitis_100x.jpg   \n",
       "8  ck_steatohepatitis_200x.jpg   \n",
       "\n",
       "                                            question  \\\n",
       "0  How can you best describe the low-power patter...   \n",
       "1  What are three main differential diagnostic co...   \n",
       "2  What is the morphologic alteration being depic...   \n",
       "3  What is the expected immunoarchitecture of the...   \n",
       "4  What is the most common source for the change ...   \n",
       "5  What is the specific anatomic region shown in ...   \n",
       "6  If these histologic changes included conspicuo...   \n",
       "7  What would the primary histologic feature to s...   \n",
       "8  In an overweight adolescent with mildly increa...   \n",
       "\n",
       "                                  original_responses  \n",
       "0  The lymph node shows a mixed follicular and in...  \n",
       "1  Based on the low-power pattern, the primary co...  \n",
       "2  The image shows a central enlarged, somewhat i...  \n",
       "3  This image shows an enlarged secondary follicl...  \n",
       "4  The changes here show extensive serositis, wit...  \n",
       "5  The right half shows the muscularis propria an...  \n",
       "6  There is fatty liver disease and if concurrent...  \n",
       "7  Wilson's disease has many non-specific finding...  \n",
       "8  In the background of steatosis, there is incre...  "
      ]
     },
     "execution_count": 12,
     "metadata": {},
     "output_type": "execute_result"
    }
   ],
   "source": [
    "questions = pd.read_csv(\"../pathology_test_data/questions.csv\")\n",
    "questions"
   ]
  },
  {
   "cell_type": "code",
   "execution_count": 13,
   "id": "ae9fe90a",
   "metadata": {},
   "outputs": [
    {
     "data": {
      "text/plain": [
       "['ck_steatohepatitis_100x.jpg',\n",
       " 'ck_PTGC_2x.jpeg',\n",
       " 'ck_serositis_4x.jpg',\n",
       " 'ck_steatohepatitis_200x.jpg',\n",
       " 'ck_PTGC_5x.jpeg']"
      ]
     },
     "execution_count": 13,
     "metadata": {},
     "output_type": "execute_result"
    }
   ],
   "source": [
    "images_path = os.path.join(os.getcwd(), \"../pathology_test_data/images\")\n",
    "images_list = os.listdir(images_path)\n",
    "images_list"
   ]
  },
  {
   "cell_type": "markdown",
   "id": "21eb9868",
   "metadata": {},
   "source": [
    "#### Loading the Model Checkpoint and Image Processor"
   ]
  },
  {
   "cell_type": "code",
   "execution_count": 14,
   "id": "b13d052d",
   "metadata": {},
   "outputs": [
    {
     "name": "stderr",
     "output_type": "stream",
     "text": [
      "Loading checkpoint shards: 100%|██████████| 2/2 [00:02<00:00,  1.24s/it]\n"
     ]
    }
   ],
   "source": [
    "model_id = \"google/medgemma-4b-it\"\n",
    "\n",
    "model = AutoModelForImageTextToText.from_pretrained(\n",
    "    model_id,\n",
    "    torch_dtype=torch.bfloat16,\n",
    "    device_map=\"auto\",\n",
    ")"
   ]
  },
  {
   "cell_type": "code",
   "execution_count": 15,
   "id": "a3f738f4",
   "metadata": {},
   "outputs": [],
   "source": [
    "processor = AutoProcessor.from_pretrained(model_id, padding=True, return_tensors=\"pt\")"
   ]
  },
  {
   "cell_type": "markdown",
   "id": "c9778d0d",
   "metadata": {},
   "source": [
    "#### Creating the message structure"
   ]
  },
  {
   "cell_type": "code",
   "execution_count": 16,
   "id": "2b844cee",
   "metadata": {},
   "outputs": [],
   "source": [
    "messages = []\n",
    "for index, row in questions.iterrows():\n",
    "    image_path = os.path.join(images_path, row[\"image_name\"])\n",
    "    question = row[\"question\"]\n",
    "    \n",
    "    message = [\n",
    "        {\n",
    "            \"role\": \"system\",\n",
    "            \"content\": [{\"type\": \"text\", \"text\": \"You are a helpful assistant.\"}]\n",
    "        },\n",
    "        {\n",
    "            \"role\": \"user\",\n",
    "            \"content\": [\n",
    "                {\"type\": \"image\", \"image\": image_path},\n",
    "                {\"type\": \"text\", \"text\": question}\n",
    "            ]\n",
    "        }\n",
    "    ]   \n",
    "    \n",
    "    messages.append(message)"
   ]
  },
  {
   "cell_type": "markdown",
   "id": "b1a62cd0",
   "metadata": {},
   "source": [
    "#### Running the batch inference"
   ]
  },
  {
   "cell_type": "code",
   "execution_count": 17,
   "id": "04f6f35f",
   "metadata": {},
   "outputs": [],
   "source": [
    "inputs = processor.apply_chat_template(messages, add_generation_prompt=True, tokenize=True,\n",
    "                                        return_dict=True, return_tensors=\"pt\")\n",
    "\n",
    "inputs = inputs.to(model.device)"
   ]
  },
  {
   "cell_type": "code",
   "execution_count": 18,
   "id": "7c846bd3",
   "metadata": {},
   "outputs": [],
   "source": [
    "with torch.inference_mode():\n",
    "    generated_ids = model.generate(**inputs, max_new_tokens=1024, do_sample=False)\n",
    "    generated_ids_trimmed = [\n",
    "        out_ids[len(in_ids) :] for in_ids, out_ids in zip(inputs.input_ids, generated_ids)\n",
    "    ]"
   ]
  },
  {
   "cell_type": "code",
   "execution_count": 19,
   "id": "7445cd4f",
   "metadata": {},
   "outputs": [],
   "source": [
    "output_texts = processor.batch_decode(\n",
    "    generated_ids_trimmed, skip_special_tokens=True, clean_up_tokenization_spaces=False\n",
    ")"
   ]
  },
  {
   "cell_type": "code",
   "execution_count": 20,
   "id": "13a6eadc",
   "metadata": {},
   "outputs": [
    {
     "data": {
      "text/plain": [
       "[\"Based on the low-power image, the pattern appears to be a **lymph node**.\\n\\nHere's a more detailed description:\\n\\n*   **Overall Appearance:** The image shows a relatively uniform, solid tissue sample.\\n*   **Cellularity:** The tissue is densely populated with cells, suggesting a high cellularity.\\n*   **Lymphoid Follicles:** The presence of lymphoid follicles is a key characteristic of lymph nodes. These follicles are clusters of lymphocytes (a type of white blood cell) that are involved in the immune response.\\n*   **Other Structures:** The image also shows other structures, such as blood vessels and connective tissue, which are part of the lymph node's architecture.\\n\\nIn summary, the image shows a lymph node with a high density of lymphocytes within lymphoid follicles, surrounded by blood vessels and connective tissue.\\n\",\n",
       " \"Based on the image, the lymph node appears to be a normal lymph node. However, given the context of a young teenager with solitary adenopathy, here are three main differential diagnostic considerations:\\n\\n1.  **Infectious Etiology:** This is a very common cause of lymphadenopathy in children and adolescents. Consider common viral infections (e.g., mononucleosis, cytomegalovirus, Epstein-Barr virus), bacterial infections (e.g., cat scratch disease, tularemia), and fungal infections. The clinical history and physical exam findings are crucial for narrowing down the possibilities.\\n\\n2.  **Benign Lymphoproliferative Disorders:** These are conditions where there is an abnormal proliferation of lymphocytes, but without the features of a malignant lymphoma. Examples include reactive lymphadenopathy (e.g., due to a recent infection) and benign lymphadenopathies (e.g., juvenile idiopathic polyposis).\\n\\n3.  **Malignant Lymphoma:** While less common than infectious causes in this age group, lymphoma must be considered, especially if the lymph node is enlarged, firm, and/or fixed. Consider Hodgkin lymphoma and non-Hodgkin lymphoma. The clinical history and physical exam findings are crucial for narrowing down the possibilities.\\n\\nIt's important to note that this is not an exhaustive list, and other possibilities exist. A thorough clinical evaluation, including a detailed history, physical examination, and potentially laboratory tests (e.g., complete blood count, blood cultures, viral serologies), is necessary to arrive at an accurate diagnosis.\\n\",\n",
       " 'Based on the image, the morphologic alteration being depicted is **lymph node enlargement**.\\n\\nThe image shows a solitary lymph node that appears larger than normal. This enlargement could be due to various factors, including infection, inflammation, or malignancy. Further investigation would be needed to determine the underlying cause.\\n',\n",
       " 'Based on the image, the cells appear to be lymphoid follicles, likely representing the mantle zone of a lymph node.\\n\\nThe expected immunoarchitecture of the mantle cells in this context would be:\\n\\n*   **Compact and organized:** Mantle cells are typically tightly packed within the follicle.\\n*   **Uniform appearance:** They should have a relatively consistent morphology.\\n*   **Expression of B-cell markers:** Mantle cells are B cells, so they would express B-cell markers like CD19, CD20, and CD79a.\\n*   **Expression of surface immunoglobulin:** They would also express surface immunoglobulin (e.g., IgM, IgD, IgG, IgA) on their B-cell receptor.\\n*   **Expression of activation markers:** Depending on the stage of the immune response, they might also express activation markers like CD69 or CD25.\\n\\nIn summary, the expected immunoarchitecture of the mantle cells would be a compact, uniform population of B cells expressing B-cell markers and surface immunoglobulin.\\n\\n**Important Note:** This is a general description based on the image. The actual immunoarchitecture could vary depending on the specific context (e.g., age, disease state, etc.). A more definitive answer would require additional information about the experimental conditions and the specific markers being used.',\n",
       " \"Based on the image, the most likely source of the change depicted in the bowel of an 8-day-old neonate with distension is **intestinal atresia**.\\n\\nHere's why:\\n\\n*   **Atresia:** This refers to a congenital absence or closure of a portion of the intestine. The image shows a significant disruption in the normal bowel architecture, with a large, irregular mass in the center. This is a classic presentation of atresia.\\n*   **Distension:** The distension of the bowel is a common finding in neonates with atresia, as the blocked segment prevents the passage of intestinal contents.\\n\\nWhile other conditions could potentially cause bowel distension in a neonate, the image strongly suggests a structural abnormality like atresia.\\n\\nIt's important to note that this is a preliminary interpretation based on a single image. A definitive diagnosis would require a complete clinical evaluation, including a physical exam, history, and potentially imaging studies like an abdominal ultrasound or X-ray.\",\n",
       " 'Based on the image, the specific anatomic region shown on the right half is the **stomach**.\\n',\n",
       " 'Based on the image, the primary consideration for the diagnosis would be **hepatitis**.\\n\\nThe presence of conspicuous portal plasma cells is a hallmark of chronic inflammation in the liver, which is a key feature of hepatitis. While other conditions can cause liver inflammation, the presence of plasma cells in the portal areas strongly suggests a chronic inflammatory process, most commonly related to viral hepatitis (e.g., Hepatitis B, Hepatitis C).\\n\\nTherefore, the diagnosis would likely be considered as a form of hepatitis, and further investigations would be needed to determine the specific etiology (e.g., viral serology, liver biopsy with special stains).\\n',\n",
       " \"Based on the image, the primary histologic feature that would suggest a diagnosis of Wilson's disease is **copper deposition in the liver.**\\n\\nSpecifically, you would look for:\\n\\n*   **Kayser-Fleischer rings:** These are brownish rings around the cornea, caused by copper deposition in Descemet's membrane. While not visible in this image, they are a hallmark of Wilson's disease.\\n*   **Copper accumulation in hepatocytes:** This can be seen as a brownish discoloration of the liver cells.\\n*   **Histologic changes in the liver:** These can include steatosis (fatty liver), hepatitis (inflammation), and cirrhosis.\\n\\nThe image shows a liver biopsy with a significant amount of copper deposition, which is a key feature of Wilson's disease.\\n\",\n",
       " \"Based on the image, the portal changes suggest **NASH (Non-Alcoholic Steatohepatitis)**.\\n\\nHere's why:\\n\\n*   **Portal Inflammation:** The presence of inflammatory cells (lymphocytes) within the portal areas is a hallmark of NASH.\\n*   **Liver Histology:** The overall appearance of the liver tissue, including the presence of steatosis (fatty infiltration) and inflammation, is consistent with NASH.\\n*   **Clinical Context:** The patient is an overweight adolescent with mildly increased transaminases, which are liver enzymes that can be elevated in NASH.\\n\\nIt's important to note that this is a preliminary interpretation based on a single image. A definitive diagnosis requires a comprehensive evaluation, including a detailed history, physical examination, laboratory tests (including a complete blood count, liver function tests, and possibly viral hepatitis serologies), and potentially imaging studies (ultrasound, CT scan, or MRI).\\n\\nHowever, the portal changes in this image are highly suggestive of NASH in the context of an overweight adolescent with mildly elevated transaminases.\"]"
      ]
     },
     "execution_count": 20,
     "metadata": {},
     "output_type": "execute_result"
    }
   ],
   "source": [
    "output_texts"
   ]
  },
  {
   "cell_type": "markdown",
   "id": "d6755763",
   "metadata": {},
   "source": [
    "#### Storing the output Responses"
   ]
  },
  {
   "cell_type": "code",
   "execution_count": 21,
   "id": "cd914e14",
   "metadata": {},
   "outputs": [],
   "source": [
    "os.makedirs(\"./responses\", exist_ok=True)\n",
    "questions['medgemma-4b-it-response'] = output_texts\n",
    "questions.to_csv(\"./responses/medgemma_4b_it_responses.csv\", index=False)"
   ]
  }
 ],
 "metadata": {
  "kernelspec": {
   "display_name": "path-opendata",
   "language": "python",
   "name": "python3"
  },
  "language_info": {
   "codemirror_mode": {
    "name": "ipython",
    "version": 3
   },
   "file_extension": ".py",
   "mimetype": "text/x-python",
   "name": "python",
   "nbconvert_exporter": "python",
   "pygments_lexer": "ipython3",
   "version": "3.10.18"
  }
 },
 "nbformat": 4,
 "nbformat_minor": 5
}
