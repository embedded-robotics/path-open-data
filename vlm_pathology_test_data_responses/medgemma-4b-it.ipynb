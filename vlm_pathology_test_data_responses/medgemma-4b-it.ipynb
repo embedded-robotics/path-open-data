{
 "cells": [
  {
   "cell_type": "markdown",
   "id": "430c1ad8",
   "metadata": {},
   "source": [
    "https://huggingface.co/collections/google/medgemma-release-680aade845f90bec6a3f60c4 \\\n",
    "https://huggingface.co/google/medgemma-4b-it"
   ]
  },
  {
   "cell_type": "code",
   "execution_count": 1,
   "id": "ec84aa0e",
   "metadata": {},
   "outputs": [],
   "source": [
    "import os\n",
    "import sys"
   ]
  },
  {
   "cell_type": "code",
   "execution_count": 2,
   "id": "fc1c5d78",
   "metadata": {},
   "outputs": [],
   "source": [
    "# Set CUDA_VISIBLE_DEVICES to expose only device 0\n",
    "os.environ[\"CUDA_VISIBLE_DEVICES\"] = \"0\"\n",
    "\n",
    "# Set CUDA_VISIBLE_DEVICES to expose devices 0, 1, 2, and 3\n",
    "# os.environ[\"CUDA_VISIBLE_DEVICES\"] = \"0,1,2,3\""
   ]
  },
  {
   "cell_type": "code",
   "execution_count": 3,
   "id": "5451ef50",
   "metadata": {},
   "outputs": [
    {
     "name": "stderr",
     "output_type": "stream",
     "text": [
      "/data/mn27889/miniconda3/envs/path-opendata/lib/python3.10/site-packages/tqdm/auto.py:21: TqdmWarning: IProgress not found. Please update jupyter and ipywidgets. See https://ipywidgets.readthedocs.io/en/stable/user_install.html\n",
      "  from .autonotebook import tqdm as notebook_tqdm\n"
     ]
    }
   ],
   "source": [
    "from transformers import AutoProcessor, AutoModelForImageTextToText\n",
    "from PIL import Image\n",
    "import requests\n",
    "import torch"
   ]
  },
  {
   "cell_type": "code",
   "execution_count": 4,
   "id": "b13d052d",
   "metadata": {},
   "outputs": [
    {
     "name": "stderr",
     "output_type": "stream",
     "text": [
      "Loading checkpoint shards: 100%|██████████| 2/2 [00:07<00:00,  3.71s/it]\n"
     ]
    }
   ],
   "source": [
    "model_id = \"google/medgemma-4b-it\"\n",
    "\n",
    "model = AutoModelForImageTextToText.from_pretrained(\n",
    "    model_id,\n",
    "    torch_dtype=torch.bfloat16,\n",
    "    device_map=\"auto\",\n",
    ")"
   ]
  },
  {
   "cell_type": "code",
   "execution_count": 5,
   "id": "a3f738f4",
   "metadata": {},
   "outputs": [
    {
     "name": "stderr",
     "output_type": "stream",
     "text": [
      "Using a slow image processor as `use_fast` is unset and a slow processor was saved with this model. `use_fast=True` will be the default behavior in v4.52, even if the model was saved with a slow processor. This will result in minor differences in outputs. You'll still be able to use a slow processor with `use_fast=False`.\n"
     ]
    }
   ],
   "source": [
    "processor = AutoProcessor.from_pretrained(model_id)"
   ]
  },
  {
   "cell_type": "markdown",
   "id": "bdde56cf",
   "metadata": {},
   "source": [
    "#### Single Image Inference"
   ]
  },
  {
   "cell_type": "code",
   "execution_count": 6,
   "id": "e8d9fc18",
   "metadata": {},
   "outputs": [],
   "source": [
    "# Image attribution: Stillwaterising, CC0, via Wikimedia Commons\n",
    "image_url = \"https://upload.wikimedia.org/wikipedia/commons/c/c8/Chest_Xray_PA_3-8-2010.png\"\n",
    "image = Image.open(requests.get(image_url, headers={\"User-Agent\": \"example\"}, stream=True).raw)"
   ]
  },
  {
   "cell_type": "code",
   "execution_count": 7,
   "id": "dabe682c",
   "metadata": {},
   "outputs": [],
   "source": [
    "messages = [\n",
    "    {\n",
    "        \"role\": \"system\",\n",
    "        \"content\": [{\"type\": \"text\", \"text\": \"You are an expert radiologist.\"}]\n",
    "    },\n",
    "    {\n",
    "        \"role\": \"user\",\n",
    "        \"content\": [\n",
    "            {\"type\": \"text\", \"text\": \"Describe this X-ray\"},\n",
    "            {\"type\": \"image\", \"image\": image}\n",
    "        ]\n",
    "    }\n",
    "]"
   ]
  },
  {
   "cell_type": "code",
   "execution_count": 8,
   "id": "96789e37",
   "metadata": {},
   "outputs": [],
   "source": [
    "inputs = processor.apply_chat_template(\n",
    "    messages, add_generation_prompt=True, tokenize=True,\n",
    "    return_dict=True, return_tensors=\"pt\"\n",
    ").to(model.device, dtype=torch.bfloat16)"
   ]
  },
  {
   "cell_type": "code",
   "execution_count": 9,
   "id": "bd23f859",
   "metadata": {},
   "outputs": [],
   "source": [
    "input_len = inputs[\"input_ids\"].shape[-1]"
   ]
  },
  {
   "cell_type": "code",
   "execution_count": 10,
   "id": "1837ec08",
   "metadata": {},
   "outputs": [],
   "source": [
    "with torch.inference_mode():\n",
    "    generation = model.generate(**inputs, max_new_tokens=200, do_sample=False)\n",
    "    generation = generation[0][input_len:]"
   ]
  },
  {
   "cell_type": "code",
   "execution_count": 11,
   "id": "b1c76591",
   "metadata": {},
   "outputs": [
    {
     "name": "stdout",
     "output_type": "stream",
     "text": [
      "Okay, based on the provided chest X-ray image, here's a description:\n",
      "\n",
      "**Overall Impression:**\n",
      "\n",
      "The image shows a normal chest X-ray. The heart size appears within normal limits, and the lungs are clear bilaterally. There are no obvious signs of acute pathology.\n",
      "\n",
      "**Specific Findings:**\n",
      "\n",
      "*   **Heart:** The heart size is within normal limits. The cardiothoracic ratio (the ratio of the heart's width to the chest's width) appears to be less than 0.5, which is generally considered normal.\n",
      "*   **Lungs:** The lungs are clear bilaterally. There are no visible consolidations, effusions, or pneumothoraces. The lung markings are normal.\n",
      "*   **Mediastinum:** The mediastinum (the space between the lungs containing the heart, great vessels, trachea, and esophagus) appears normal in width and alignment.\n",
      "*   **Bones:** The ribs, clavicles, and\n"
     ]
    }
   ],
   "source": [
    "decoded = processor.decode(generation, skip_special_tokens=True)\n",
    "print(decoded)"
   ]
  },
  {
   "cell_type": "markdown",
   "id": "7d76b7c4",
   "metadata": {},
   "source": [
    "#### Batch Inference"
   ]
  },
  {
   "cell_type": "code",
   "execution_count": 12,
   "id": "2b844cee",
   "metadata": {},
   "outputs": [],
   "source": [
    "message1 = [\n",
    "    {\n",
    "        \"role\": \"system\",\n",
    "        \"content\": [{\"type\": \"text\", \"text\": \"You are a helpful assistant.\"}]\n",
    "    },\n",
    "    {\n",
    "        \"role\": \"user\",\n",
    "        \"content\": [\n",
    "            {\"type\": \"image\", \"image\": \"./pathology_images/ck_PTGC_2x.jpeg\"},\n",
    "            {\"type\": \"text\", \"text\": \"Describe this image in detail.\"}\n",
    "        ]\n",
    "    }\n",
    "]\n",
    "\n",
    "message2 = [\n",
    "    {\n",
    "        \"role\": \"system\",\n",
    "        \"content\": [{\"type\": \"text\", \"text\": \"You are a helpful assistant.\"}]\n",
    "    },\n",
    "    {\n",
    "        \"role\": \"user\",\n",
    "        \"content\": [\n",
    "            {\"type\": \"image\", \"image\": \"./pathology_images/ck_PTGC_5x.jpeg\"},\n",
    "            {\"type\": \"text\", \"text\": \"Describe this image in detail.\"}\n",
    "        ]\n",
    "    }\n",
    "]\n",
    "\n",
    "messages = [message1, message2]"
   ]
  },
  {
   "cell_type": "code",
   "execution_count": 13,
   "id": "04f6f35f",
   "metadata": {},
   "outputs": [],
   "source": [
    "inputs = processor.apply_chat_template(\n",
    "    messages, add_generation_prompt=True, tokenize=True,\n",
    "    return_dict=True, return_tensors=\"pt\"\n",
    ").to(model.device, dtype=torch.bfloat16)"
   ]
  },
  {
   "cell_type": "code",
   "execution_count": 14,
   "id": "7c846bd3",
   "metadata": {},
   "outputs": [],
   "source": [
    "with torch.inference_mode():\n",
    "    generated_ids = model.generate(**inputs, max_new_tokens=1024, do_sample=False)\n",
    "    generated_ids_trimmed = [\n",
    "        out_ids[len(in_ids) :] for in_ids, out_ids in zip(inputs.input_ids, generated_ids)\n",
    "    ]"
   ]
  },
  {
   "cell_type": "code",
   "execution_count": 15,
   "id": "7445cd4f",
   "metadata": {},
   "outputs": [],
   "source": [
    "output_texts = processor.batch_decode(\n",
    "    generated_ids_trimmed, skip_special_tokens=True, clean_up_tokenization_spaces=False\n",
    ")"
   ]
  },
  {
   "cell_type": "code",
   "execution_count": 16,
   "id": "13a6eadc",
   "metadata": {},
   "outputs": [
    {
     "name": "stdout",
     "output_type": "stream",
     "text": [
      "The image shows a microscopic view of a tissue sample, likely from a biological specimen. Here's a detailed description:\n",
      "\n",
      "*   **Overall Appearance:** The image presents a relatively uniform, homogenous tissue structure. The color is a pale, almost translucent purple, suggesting a relatively low cellular density or a specific staining technique.\n",
      "\n",
      "*   **Cellular Structure:** The image reveals a complex network of cells and their associated structures. The cells appear to be relatively small and compact, with distinct boundaries.\n",
      "\n",
      "*   **Tissue Architecture:** The tissue appears to be organized into a three-dimensional structure, with cells arranged in a specific pattern. The arrangement of cells and their connections suggest a specific tissue type, although without further context, it's difficult to identify the exact tissue.\n",
      "\n",
      "*   **Details:** The image shows a variety of cellular features, including nuclei, cytoplasm, and extracellular matrix. The presence of these features indicates that the tissue is composed of living cells and their surrounding environment.\n",
      "\n",
      "*   **Scale:** The image is presented with a scale of 1000 μm, indicating that the image is magnified to a certain extent. This allows for the visualization of fine cellular details.\n",
      "\n",
      "In summary, the image depicts a microscopic view of a tissue sample, characterized by a uniform appearance, a complex cellular structure, and a three-dimensional organization. The specific tissue type and the purpose of the image are not evident from this single image alone.\n"
     ]
    }
   ],
   "source": [
    "print(output_texts[0])"
   ]
  },
  {
   "cell_type": "code",
   "execution_count": 17,
   "id": "643a7d51",
   "metadata": {},
   "outputs": [
    {
     "name": "stdout",
     "output_type": "stream",
     "text": [
      "The image shows a microscopic view of a tissue sample. It appears to be a cross-section of a biological structure, possibly a lymph node or a similar organ.\n",
      "\n",
      "Here's a more detailed breakdown:\n",
      "\n",
      "*   **Color:** The image is predominantly a shade of purple, likely due to the staining process used to visualize the tissue.\n",
      "*   **Texture:** The tissue appears to be a complex network of interconnected structures. There are areas of denser tissue and areas of more open space.\n",
      "*   **Shape:** The overall shape is irregular and somewhat amorphous, suggesting a non-uniform structure.\n",
      "*   **Details:** While the resolution is limited by the microscopic nature of the image, it's possible to discern some cellular structures and possibly some blood vessels or lymphatic vessels.\n",
      "*   **Scale:** The scale bar indicates that the image is approximately 200 micrometers in size.\n",
      "\n",
      "Overall, the image provides a glimpse into the intricate architecture of a biological tissue. It's a valuable tool for researchers studying the structure and function of these tissues.\n"
     ]
    }
   ],
   "source": [
    "print(output_texts[1])"
   ]
  },
  {
   "cell_type": "code",
   "execution_count": null,
   "id": "cd914e14",
   "metadata": {},
   "outputs": [],
   "source": []
  }
 ],
 "metadata": {
  "kernelspec": {
   "display_name": "path-opendata",
   "language": "python",
   "name": "python3"
  },
  "language_info": {
   "codemirror_mode": {
    "name": "ipython",
    "version": 3
   },
   "file_extension": ".py",
   "mimetype": "text/x-python",
   "name": "python",
   "nbconvert_exporter": "python",
   "pygments_lexer": "ipython3",
   "version": "3.10.18"
  }
 },
 "nbformat": 4,
 "nbformat_minor": 5
}
