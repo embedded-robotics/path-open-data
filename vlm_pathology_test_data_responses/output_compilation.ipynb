{
 "cells": [
  {
   "cell_type": "code",
   "execution_count": 2,
   "id": "f41afceb",
   "metadata": {},
   "outputs": [],
   "source": [
    "import pandas as pd\n",
    "import os"
   ]
  },
  {
   "cell_type": "markdown",
   "id": "fb61968a",
   "metadata": {},
   "source": [
    "#### Reading the list of Response CSV"
   ]
  },
  {
   "cell_type": "code",
   "execution_count": 3,
   "id": "1b3982e2",
   "metadata": {},
   "outputs": [
    {
     "data": {
      "text/plain": [
       "['llava_1.6_7b_responses.csv',\n",
       " 'deepseek_vl2_tiny_responses.csv',\n",
       " 'medgemma_4b_it_responses.csv',\n",
       " 'intern_vl3_responses.csv',\n",
       " 'llava_med_mistral_7b_responses.csv',\n",
       " 'medtrinity_llava_tri_8b_responses.csv',\n",
       " 'qwen_25_vl_responses.csv',\n",
       " 'minicpm_v26_responses.csv',\n",
       " 'quilt_llava_vicuna_7b_responses.csv',\n",
       " 'gemma3_4b_it_responses.csv']"
      ]
     },
     "execution_count": 3,
     "metadata": {},
     "output_type": "execute_result"
    }
   ],
   "source": [
    "responses_csv = os.listdir('responses')\n",
    "responses_csv"
   ]
  },
  {
   "cell_type": "markdown",
   "id": "fe10efd8",
   "metadata": {},
   "source": [
    "#### Creating a dataframe to combine the information"
   ]
  },
  {
   "cell_type": "code",
   "execution_count": 24,
   "id": "bec6cf6d",
   "metadata": {},
   "outputs": [],
   "source": [
    "response_rating_df = pd.DataFrame(columns=['image_name', 'question', 'original_responses'])\n",
    "\n",
    "for csv_file in responses_csv:\n",
    "    df = pd.read_csv(os.path.join('./responses', csv_file))\n",
    "    rating_column = df.columns[3] + '-rating'\n",
    "    df[rating_column] = ' '\n",
    "    response_rating_df = pd.merge(response_rating_df, df, on=['image_name', 'question', 'original_responses'], how='outer')"
   ]
  },
  {
   "cell_type": "code",
   "execution_count": 25,
   "id": "5a20ad28",
   "metadata": {},
   "outputs": [],
   "source": [
    "os.makedirs('./responses', exist_ok=True)\n",
    "response_rating_df.to_csv(os.path.join('./responses', 'combined_responses.csv'), index=False)"
   ]
  },
  {
   "cell_type": "code",
   "execution_count": null,
   "id": "6ab4f034",
   "metadata": {},
   "outputs": [],
   "source": []
  }
 ],
 "metadata": {
  "kernelspec": {
   "display_name": "path-opendata",
   "language": "python",
   "name": "python3"
  },
  "language_info": {
   "codemirror_mode": {
    "name": "ipython",
    "version": 3
   },
   "file_extension": ".py",
   "mimetype": "text/x-python",
   "name": "python",
   "nbconvert_exporter": "python",
   "pygments_lexer": "ipython3",
   "version": "3.10.18"
  }
 },
 "nbformat": 4,
 "nbformat_minor": 5
}
