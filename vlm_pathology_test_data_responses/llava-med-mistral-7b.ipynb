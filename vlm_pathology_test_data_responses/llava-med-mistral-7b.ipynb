{
 "cells": [
  {
   "cell_type": "markdown",
   "id": "9d71d051",
   "metadata": {},
   "source": [
    "https://github.com/microsoft/LLaVA-Med \\\n",
    "https://huggingface.co/microsoft/llava-med-v1.5-mistral-7b"
   ]
  },
  {
   "cell_type": "code",
   "execution_count": 1,
   "id": "4a4af1b5",
   "metadata": {},
   "outputs": [],
   "source": [
    "import os\n",
    "import pandas as pd\n",
    "import json"
   ]
  },
  {
   "cell_type": "markdown",
   "id": "4830ff3d",
   "metadata": {},
   "source": [
    "#### Reading the Pathology Test Data"
   ]
  },
  {
   "cell_type": "code",
   "execution_count": 2,
   "id": "00c15aa6",
   "metadata": {},
   "outputs": [
    {
     "data": {
      "text/html": [
       "<div>\n",
       "<style scoped>\n",
       "    .dataframe tbody tr th:only-of-type {\n",
       "        vertical-align: middle;\n",
       "    }\n",
       "\n",
       "    .dataframe tbody tr th {\n",
       "        vertical-align: top;\n",
       "    }\n",
       "\n",
       "    .dataframe thead th {\n",
       "        text-align: right;\n",
       "    }\n",
       "</style>\n",
       "<table border=\"1\" class=\"dataframe\">\n",
       "  <thead>\n",
       "    <tr style=\"text-align: right;\">\n",
       "      <th></th>\n",
       "      <th>image_name</th>\n",
       "      <th>question</th>\n",
       "      <th>original_responses</th>\n",
       "    </tr>\n",
       "  </thead>\n",
       "  <tbody>\n",
       "    <tr>\n",
       "      <th>0</th>\n",
       "      <td>ck_PTGC_2x.jpeg</td>\n",
       "      <td>How can you best describe the low-power patter...</td>\n",
       "      <td>The lymph node shows a mixed follicular and in...</td>\n",
       "    </tr>\n",
       "    <tr>\n",
       "      <th>1</th>\n",
       "      <td>ck_PTGC_2x.jpeg</td>\n",
       "      <td>What are three main differential diagnostic co...</td>\n",
       "      <td>Based on the low-power pattern, the primary co...</td>\n",
       "    </tr>\n",
       "    <tr>\n",
       "      <th>2</th>\n",
       "      <td>ck_PTGC_5x.jpeg</td>\n",
       "      <td>What is the morphologic alteration being depic...</td>\n",
       "      <td>The image shows a central enlarged, somewhat i...</td>\n",
       "    </tr>\n",
       "    <tr>\n",
       "      <th>3</th>\n",
       "      <td>ck_PTGC_5x.jpeg</td>\n",
       "      <td>What is the expected immunoarchitecture of the...</td>\n",
       "      <td>This image shows an enlarged secondary follicl...</td>\n",
       "    </tr>\n",
       "    <tr>\n",
       "      <th>4</th>\n",
       "      <td>ck_serositis_4x.jpg</td>\n",
       "      <td>What is the most common source for the change ...</td>\n",
       "      <td>The changes here show extensive serositis, wit...</td>\n",
       "    </tr>\n",
       "    <tr>\n",
       "      <th>5</th>\n",
       "      <td>ck_serositis_4x.jpg</td>\n",
       "      <td>What is the specific anatomic region shown in ...</td>\n",
       "      <td>The right half shows the muscularis propria an...</td>\n",
       "    </tr>\n",
       "    <tr>\n",
       "      <th>6</th>\n",
       "      <td>ck_steatohepatitis_100x.jpg</td>\n",
       "      <td>If these histologic changes included conspicuo...</td>\n",
       "      <td>There is fatty liver disease and if concurrent...</td>\n",
       "    </tr>\n",
       "    <tr>\n",
       "      <th>7</th>\n",
       "      <td>ck_steatohepatitis_100x.jpg</td>\n",
       "      <td>What would the primary histologic feature to s...</td>\n",
       "      <td>Wilson's disease has many non-specific finding...</td>\n",
       "    </tr>\n",
       "    <tr>\n",
       "      <th>8</th>\n",
       "      <td>ck_steatohepatitis_200x.jpg</td>\n",
       "      <td>In an overweight adolescent with mildly increa...</td>\n",
       "      <td>In the background of steatosis, there is incre...</td>\n",
       "    </tr>\n",
       "  </tbody>\n",
       "</table>\n",
       "</div>"
      ],
      "text/plain": [
       "                    image_name  \\\n",
       "0              ck_PTGC_2x.jpeg   \n",
       "1              ck_PTGC_2x.jpeg   \n",
       "2              ck_PTGC_5x.jpeg   \n",
       "3              ck_PTGC_5x.jpeg   \n",
       "4          ck_serositis_4x.jpg   \n",
       "5          ck_serositis_4x.jpg   \n",
       "6  ck_steatohepatitis_100x.jpg   \n",
       "7  ck_steatohepatitis_100x.jpg   \n",
       "8  ck_steatohepatitis_200x.jpg   \n",
       "\n",
       "                                            question  \\\n",
       "0  How can you best describe the low-power patter...   \n",
       "1  What are three main differential diagnostic co...   \n",
       "2  What is the morphologic alteration being depic...   \n",
       "3  What is the expected immunoarchitecture of the...   \n",
       "4  What is the most common source for the change ...   \n",
       "5  What is the specific anatomic region shown in ...   \n",
       "6  If these histologic changes included conspicuo...   \n",
       "7  What would the primary histologic feature to s...   \n",
       "8  In an overweight adolescent with mildly increa...   \n",
       "\n",
       "                                  original_responses  \n",
       "0  The lymph node shows a mixed follicular and in...  \n",
       "1  Based on the low-power pattern, the primary co...  \n",
       "2  The image shows a central enlarged, somewhat i...  \n",
       "3  This image shows an enlarged secondary follicl...  \n",
       "4  The changes here show extensive serositis, wit...  \n",
       "5  The right half shows the muscularis propria an...  \n",
       "6  There is fatty liver disease and if concurrent...  \n",
       "7  Wilson's disease has many non-specific finding...  \n",
       "8  In the background of steatosis, there is incre...  "
      ]
     },
     "execution_count": 2,
     "metadata": {},
     "output_type": "execute_result"
    }
   ],
   "source": [
    "questions = pd.read_csv(\"../pathology_test_data/questions.csv\")\n",
    "questions"
   ]
  },
  {
   "cell_type": "code",
   "execution_count": 3,
   "id": "46f2a43f",
   "metadata": {},
   "outputs": [
    {
     "data": {
      "text/plain": [
       "['ck_steatohepatitis_100x.jpg',\n",
       " 'ck_PTGC_2x.jpeg',\n",
       " 'ck_serositis_4x.jpg',\n",
       " 'ck_steatohepatitis_200x.jpg',\n",
       " 'ck_PTGC_5x.jpeg']"
      ]
     },
     "execution_count": 3,
     "metadata": {},
     "output_type": "execute_result"
    }
   ],
   "source": [
    "images_path = os.path.join(os.getcwd(), \"../pathology_test_data/images\")\n",
    "images_list = os.listdir(images_path)\n",
    "images_list"
   ]
  },
  {
   "cell_type": "markdown",
   "id": "f2f7ab07",
   "metadata": {},
   "source": [
    "#### Creating a message structure"
   ]
  },
  {
   "cell_type": "code",
   "execution_count": 4,
   "id": "e0cd9033",
   "metadata": {},
   "outputs": [],
   "source": [
    "messages = []\n",
    "for index, row in questions.iterrows():\n",
    "    image_name = row[\"image_name\"]\n",
    "    question = row[\"question\"]\n",
    "    question_id = index\n",
    "    \n",
    "    message = {\n",
    "                \"question_id\": question_id,\n",
    "                \"image\": image_name,\n",
    "                \"text\": question,\n",
    "              }\n",
    "    \n",
    "    messages.append(message)"
   ]
  },
  {
   "cell_type": "markdown",
   "id": "db8e49c0",
   "metadata": {},
   "source": [
    "#### Creating a jsonl file with each line mentioning a specific question/image"
   ]
  },
  {
   "cell_type": "code",
   "execution_count": 5,
   "id": "fecddcbe",
   "metadata": {},
   "outputs": [],
   "source": [
    "os.makedirs(\"./temp_files\", exist_ok=True)\n",
    "file_name = \"llava_med_mistral_7b.jsonl\"\n",
    "file_path = os.path.join(\"./temp_files\", file_name)\n",
    "with open(file_path, \"w\") as f:\n",
    "    for item in messages:\n",
    "        f.write(json.dumps(item) + \"\\n\")"
   ]
  },
  {
   "cell_type": "markdown",
   "id": "35918e4f",
   "metadata": {},
   "source": [
    "#### Running the inference code from the command line"
   ]
  },
  {
   "cell_type": "code",
   "execution_count": null,
   "id": "6878d7c6",
   "metadata": {},
   "outputs": [],
   "source": [
    "!export PYTHONPATH=/data/mn27889/path-open-data/LLaVA-Med:$PYTHONPATH"
   ]
  },
  {
   "cell_type": "code",
   "execution_count": null,
   "id": "d1eae225",
   "metadata": {},
   "outputs": [],
   "source": [
    "!CUDA_VISIBLE_DEVICES=0 python llava/eval/model_vqa.py \\\n",
    "--model-path microsoft/llava-med-v1.5-mistral-7b \\\n",
    "--conv-mode mistral_instruct \\\n",
    "--image-folder /data/mn27889/path-open-data/pathology_test_data/images \\\n",
    "--question-file /data/mn27889/path-open-data/vlm_pathology_test_data_responses/temp_files/llava_med_mistral_7b.jsonl \\\n",
    "--answers-file /data/mn27889/path-open-data/vlm_pathology_test_data_responses/temp_files/llava_med_mistral_7b_resp.jsonl"
   ]
  },
  {
   "cell_type": "markdown",
   "id": "d9a7e516",
   "metadata": {},
   "source": [
    "#### Reading the Responses file"
   ]
  },
  {
   "cell_type": "code",
   "execution_count": 6,
   "id": "97f61842",
   "metadata": {},
   "outputs": [],
   "source": [
    "resp_file_name = \"llava_med_mistral_7b_resp.jsonl\"\n",
    "resp_file_path = os.path.join(\"./temp_files\", resp_file_name)\n",
    "\n",
    "indices = []\n",
    "llava_responses = []\n",
    "with open(resp_file_path, \"r\") as f:\n",
    "    for line in f:\n",
    "        json_data = json.loads(line)\n",
    "        indices.append(json_data[\"question_id\"])\n",
    "        llava_responses.append(json_data[\"text\"])"
   ]
  },
  {
   "cell_type": "code",
   "execution_count": 7,
   "id": "1d5f135c",
   "metadata": {},
   "outputs": [
    {
     "data": {
      "text/plain": [
       "0    The low-power pattern observed in this image o...\n",
       "1    The three main differential diagnostic conside...\n",
       "2    The morphologic alteration being depicted in t...\n",
       "3    The expected immunoarchitecture of the mantle ...\n",
       "4    The most common source for the change depicted...\n",
       "5    The specific anatomic region shown in the imag...\n",
       "6    If the histologic changes included conspicuous...\n",
       "7    The primary histologic feature to suggest a di...\n",
       "8    The portal changes in the image suggest a diag...\n",
       "dtype: object"
      ]
     },
     "execution_count": 7,
     "metadata": {},
     "output_type": "execute_result"
    }
   ],
   "source": [
    "responses = pd.Series(llava_responses, index=indices)\n",
    "responses"
   ]
  },
  {
   "cell_type": "code",
   "execution_count": 8,
   "id": "cdc1b48e",
   "metadata": {},
   "outputs": [],
   "source": [
    "os.makedirs(\"./responses\", exist_ok=True)\n",
    "questions['llava-med-mistral-7b-response'] = responses\n",
    "questions.to_csv(\"./responses/llava_med_mistral_7b_responses.csv\", index=False)"
   ]
  },
  {
   "cell_type": "code",
   "execution_count": null,
   "id": "a2885f12",
   "metadata": {},
   "outputs": [],
   "source": []
  }
 ],
 "metadata": {
  "kernelspec": {
   "display_name": "path-opendata",
   "language": "python",
   "name": "python3"
  },
  "language_info": {
   "codemirror_mode": {
    "name": "ipython",
    "version": 3
   },
   "file_extension": ".py",
   "mimetype": "text/x-python",
   "name": "python",
   "nbconvert_exporter": "python",
   "pygments_lexer": "ipython3",
   "version": "3.10.18"
  }
 },
 "nbformat": 4,
 "nbformat_minor": 5
}
