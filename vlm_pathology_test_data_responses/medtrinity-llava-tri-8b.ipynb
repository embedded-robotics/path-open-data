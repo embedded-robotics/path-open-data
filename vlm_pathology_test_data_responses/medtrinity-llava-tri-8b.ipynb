{
 "cells": [
  {
   "cell_type": "markdown",
   "id": "9d71d051",
   "metadata": {},
   "source": [
    "https://yunfeixie233.github.io/MedTrinity-25M/ \\\n",
    "https://github.com/UCSC-VLAA/MedTrinity-25M/tree/master \\\n",
    "https://huggingface.co/yunfeixie/LLaVA-Tri-Pretrained \\\n",
    "https://huggingface.co/yunfeixie/LLaVA-Tri-PathVQA"
   ]
  },
  {
   "cell_type": "code",
   "execution_count": 1,
   "id": "e18bbaaf",
   "metadata": {},
   "outputs": [],
   "source": [
    "import os\n",
    "import pandas as pd\n",
    "import json"
   ]
  },
  {
   "cell_type": "markdown",
   "id": "6bc30f14",
   "metadata": {},
   "source": [
    "#### Reading the Pathology Test Data"
   ]
  },
  {
   "cell_type": "code",
   "execution_count": 2,
   "id": "66b4dd3a",
   "metadata": {},
   "outputs": [
    {
     "data": {
      "text/html": [
       "<div>\n",
       "<style scoped>\n",
       "    .dataframe tbody tr th:only-of-type {\n",
       "        vertical-align: middle;\n",
       "    }\n",
       "\n",
       "    .dataframe tbody tr th {\n",
       "        vertical-align: top;\n",
       "    }\n",
       "\n",
       "    .dataframe thead th {\n",
       "        text-align: right;\n",
       "    }\n",
       "</style>\n",
       "<table border=\"1\" class=\"dataframe\">\n",
       "  <thead>\n",
       "    <tr style=\"text-align: right;\">\n",
       "      <th></th>\n",
       "      <th>image_name</th>\n",
       "      <th>question</th>\n",
       "      <th>original_responses</th>\n",
       "    </tr>\n",
       "  </thead>\n",
       "  <tbody>\n",
       "    <tr>\n",
       "      <th>0</th>\n",
       "      <td>ck_PTGC_2x.jpeg</td>\n",
       "      <td>How can you best describe the low-power patter...</td>\n",
       "      <td>The lymph node shows a mixed follicular and in...</td>\n",
       "    </tr>\n",
       "    <tr>\n",
       "      <th>1</th>\n",
       "      <td>ck_PTGC_2x.jpeg</td>\n",
       "      <td>What are three main differential diagnostic co...</td>\n",
       "      <td>Based on the low-power pattern, the primary co...</td>\n",
       "    </tr>\n",
       "    <tr>\n",
       "      <th>2</th>\n",
       "      <td>ck_PTGC_5x.jpeg</td>\n",
       "      <td>What is the morphologic alteration being depic...</td>\n",
       "      <td>The image shows a central enlarged, somewhat i...</td>\n",
       "    </tr>\n",
       "    <tr>\n",
       "      <th>3</th>\n",
       "      <td>ck_PTGC_5x.jpeg</td>\n",
       "      <td>What is the expected immunoarchitecture of the...</td>\n",
       "      <td>This image shows an enlarged secondary follicl...</td>\n",
       "    </tr>\n",
       "    <tr>\n",
       "      <th>4</th>\n",
       "      <td>ck_serositis_4x.jpg</td>\n",
       "      <td>What is the most common source for the change ...</td>\n",
       "      <td>The changes here show extensive serositis, wit...</td>\n",
       "    </tr>\n",
       "    <tr>\n",
       "      <th>5</th>\n",
       "      <td>ck_serositis_4x.jpg</td>\n",
       "      <td>What is the specific anatomic region shown in ...</td>\n",
       "      <td>The right half shows the muscularis propria an...</td>\n",
       "    </tr>\n",
       "    <tr>\n",
       "      <th>6</th>\n",
       "      <td>ck_steatohepatitis_100x.jpg</td>\n",
       "      <td>If these histologic changes included conspicuo...</td>\n",
       "      <td>There is fatty liver disease and if concurrent...</td>\n",
       "    </tr>\n",
       "    <tr>\n",
       "      <th>7</th>\n",
       "      <td>ck_steatohepatitis_100x.jpg</td>\n",
       "      <td>What would the primary histologic feature to s...</td>\n",
       "      <td>Wilson's disease has many non-specific finding...</td>\n",
       "    </tr>\n",
       "    <tr>\n",
       "      <th>8</th>\n",
       "      <td>ck_steatohepatitis_200x.jpg</td>\n",
       "      <td>In an overweight adolescent with mildly increa...</td>\n",
       "      <td>In the background of steatosis, there is incre...</td>\n",
       "    </tr>\n",
       "  </tbody>\n",
       "</table>\n",
       "</div>"
      ],
      "text/plain": [
       "                    image_name  \\\n",
       "0              ck_PTGC_2x.jpeg   \n",
       "1              ck_PTGC_2x.jpeg   \n",
       "2              ck_PTGC_5x.jpeg   \n",
       "3              ck_PTGC_5x.jpeg   \n",
       "4          ck_serositis_4x.jpg   \n",
       "5          ck_serositis_4x.jpg   \n",
       "6  ck_steatohepatitis_100x.jpg   \n",
       "7  ck_steatohepatitis_100x.jpg   \n",
       "8  ck_steatohepatitis_200x.jpg   \n",
       "\n",
       "                                            question  \\\n",
       "0  How can you best describe the low-power patter...   \n",
       "1  What are three main differential diagnostic co...   \n",
       "2  What is the morphologic alteration being depic...   \n",
       "3  What is the expected immunoarchitecture of the...   \n",
       "4  What is the most common source for the change ...   \n",
       "5  What is the specific anatomic region shown in ...   \n",
       "6  If these histologic changes included conspicuo...   \n",
       "7  What would the primary histologic feature to s...   \n",
       "8  In an overweight adolescent with mildly increa...   \n",
       "\n",
       "                                  original_responses  \n",
       "0  The lymph node shows a mixed follicular and in...  \n",
       "1  Based on the low-power pattern, the primary co...  \n",
       "2  The image shows a central enlarged, somewhat i...  \n",
       "3  This image shows an enlarged secondary follicl...  \n",
       "4  The changes here show extensive serositis, wit...  \n",
       "5  The right half shows the muscularis propria an...  \n",
       "6  There is fatty liver disease and if concurrent...  \n",
       "7  Wilson's disease has many non-specific finding...  \n",
       "8  In the background of steatosis, there is incre...  "
      ]
     },
     "execution_count": 2,
     "metadata": {},
     "output_type": "execute_result"
    }
   ],
   "source": [
    "questions = pd.read_csv(\"../pathology_test_data/questions.csv\")\n",
    "questions"
   ]
  },
  {
   "cell_type": "code",
   "execution_count": 3,
   "metadata": {},
   "outputs": [
    {
     "data": {
      "text/plain": [
       "['ck_steatohepatitis_100x.jpg',\n",
       " 'ck_PTGC_2x.jpeg',\n",
       " 'ck_serositis_4x.jpg',\n",
       " 'ck_steatohepatitis_200x.jpg',\n",
       " 'ck_PTGC_5x.jpeg']"
      ]
     },
     "execution_count": 3,
     "metadata": {},
     "output_type": "execute_result"
    }
   ],
   "source": [
    "images_path = os.path.join(os.getcwd(), \"../pathology_test_data/images\")\n",
    "images_list = os.listdir(images_path)\n",
    "images_list"
   ]
  },
  {
   "cell_type": "markdown",
   "id": "8f1e4a9b",
   "metadata": {},
   "source": [
    "#### Creating a message structure"
   ]
  },
  {
   "cell_type": "code",
   "execution_count": 4,
   "metadata": {},
   "outputs": [],
   "source": [
    "messages = []\n",
    "for index, row in questions.iterrows():\n",
    "    image_name = row[\"image_name\"]\n",
    "    question = row[\"question\"]\n",
    "    question_id = index\n",
    "    \n",
    "    message = {\n",
    "                \"id\": question_id,\n",
    "                \"image\": image_name,\n",
    "                \"conversations\": [{\"value\":question}]\n",
    "              }\n",
    "    \n",
    "    messages.append(message)"
   ]
  },
  {
   "cell_type": "markdown",
   "id": "1b01a4c1",
   "metadata": {},
   "source": [
    "#### Creating a jsonl file with each line mentioning a specific question/image"
   ]
  },
  {
   "cell_type": "code",
   "execution_count": 5,
   "id": "3f570f04",
   "metadata": {},
   "outputs": [],
   "source": [
    "os.makedirs(\"./temp_files\", exist_ok=True)\n",
    "file_name = \"medtrinity_llava_tri_8b.jsonl\"\n",
    "file_path = os.path.join(\"./temp_files\", file_name)\n",
    "with open(file_path, \"w\") as f:\n",
    "    json.dump(messages, f, indent=4)"
   ]
  },
  {
   "cell_type": "markdown",
   "id": "5b6700b8",
   "metadata": {},
   "source": [
    "#### Running the inference code from the command line"
   ]
  },
  {
   "cell_type": "code",
   "execution_count": null,
   "id": "6878d7c6",
   "metadata": {},
   "outputs": [],
   "source": [
    "!export PYTHONPATH=/data/mn27889/path-open-data/MedTrinity-25M:$PYTHONPATH"
   ]
  },
  {
   "cell_type": "markdown",
   "id": "eead2f64",
   "metadata": {},
   "source": [
    "#### LLaVA-Tri Pretrained"
   ]
  },
  {
   "cell_type": "code",
   "execution_count": null,
   "id": "d1eae225",
   "metadata": {},
   "outputs": [],
   "source": [
    "!CUDA_VISIBLE_DEVICES=0 python llava/eval/model_vqa.py \\\n",
    "--model-path yunfeixie/LLaVA-Tri-Pretrained \\\n",
    "--image-folder /data/mn27889/path-open-data/pathology_test_data/images \\\n",
    "--question-file /data/mn27889/path-open-data/vlm_pathology_test_data_responses/temp_files/medtrinity_llava_tri_8b.jsonl \\\n",
    "--answers-file /data/mn27889/path-open-data/vlm_pathology_test_data_responses/temp_files/medtrinity_llava_tri_pretrained_8b_resp.jsonl"
   ]
  },
  {
   "cell_type": "markdown",
   "id": "dc99b3c4",
   "metadata": {},
   "source": [
    "#### Reading the Responses file"
   ]
  },
  {
   "cell_type": "code",
   "execution_count": 6,
   "id": "81eb7435",
   "metadata": {},
   "outputs": [],
   "source": [
    "resp_file_name = \"medtrinity_llava_tri_pretrained_8b_resp.jsonl\"\n",
    "resp_file_path = os.path.join(\"./temp_files\", resp_file_name)\n",
    "\n",
    "indices = []\n",
    "llava_responses = []\n",
    "with open(resp_file_path, \"r\") as f:\n",
    "    for line in f:\n",
    "        json_data = json.loads(line)\n",
    "        indices.append(json_data[\"question_id\"])\n",
    "        llava_responses.append(json_data[\"text\"])"
   ]
  },
  {
   "cell_type": "code",
   "execution_count": 7,
   "metadata": {},
   "outputs": [
    {
     "data": {
      "text/plain": [
       "0    The low-power pattern observed in this image o...\n",
       "1    If the lymph node was sampled from a young tee...\n",
       "2    The morphologic alteration depicted in the enl...\n",
       "3    The expected immunoarchitecture of the mantle ...\n",
       "4    The most common source for the change depicted...\n",
       "5    The right half of the image shows the anatomic...\n",
       "6    If the histologic changes included conspicuous...\n",
       "7    The primary histologic feature to suggest a di...\n",
       "8    The portal changes in the histology image sugg...\n",
       "dtype: object"
      ]
     },
     "execution_count": 7,
     "metadata": {},
     "output_type": "execute_result"
    }
   ],
   "source": [
    "responses = pd.Series(llava_responses, index=indices)\n",
    "responses"
   ]
  },
  {
   "cell_type": "code",
   "execution_count": 8,
   "metadata": {},
   "outputs": [],
   "source": [
    "os.makedirs(\"./responses\", exist_ok=True)\n",
    "questions['medtrinity-llava-tri-pretrained-8b-response'] = responses"
   ]
  },
  {
   "cell_type": "markdown",
   "id": "59e500d6",
   "metadata": {},
   "source": [
    "#### LLaVA-Tri PathVQA"
   ]
  },
  {
   "cell_type": "code",
   "execution_count": null,
   "id": "4234d2f1",
   "metadata": {},
   "outputs": [],
   "source": [
    "!CUDA_VISIBLE_DEVICES=0 python llava/eval/model_vqa.py \\\n",
    "--model-path yunfeixie/LLaVA-Tri-PathVQA \\\n",
    "--image-folder /data/mn27889/path-open-data/pathology_test_data/images \\\n",
    "--question-file /data/mn27889/path-open-data/vlm_pathology_test_data_responses/temp_files/medtrinity_llava_tri_8b.jsonl \\\n",
    "--answers-file /data/mn27889/path-open-data/vlm_pathology_test_data_responses/temp_files/medtrinity_llava_tri_pathvqa_8b_resp.jsonl"
   ]
  },
  {
   "cell_type": "markdown",
   "id": "e6150fe2",
   "metadata": {},
   "source": [
    "#### Reading the Responses file"
   ]
  },
  {
   "cell_type": "code",
   "execution_count": 9,
   "id": "8f473bd0",
   "metadata": {},
   "outputs": [],
   "source": [
    "resp_file_name = \"medtrinity_llava_tri_pathvqa_8b_resp.jsonl\"\n",
    "resp_file_path = os.path.join(\"./temp_files\", resp_file_name)\n",
    "\n",
    "indices = []\n",
    "llava_responses = []\n",
    "with open(resp_file_path, \"r\") as f:\n",
    "    for line in f:\n",
    "        json_data = json.loads(line)\n",
    "        indices.append(json_data[\"question_id\"])\n",
    "        llava_responses.append(json_data[\"text\"])"
   ]
  },
  {
   "cell_type": "code",
   "execution_count": 10,
   "id": "a78408e9",
   "metadata": {},
   "outputs": [
    {
     "data": {
      "text/plain": [
       "0         merging capsules and large areas of necrosis\n",
       "1                                   malignant lymphoma\n",
       "2                          a possible precursor lesion\n",
       "3                         a complete hydatidiform mole\n",
       "4                             hyaline membrane disease\n",
       "5                               the region of interest\n",
       "6    the characteristic perisinusoidal chicken wire...\n",
       "7    the characteristic perisinusoidal chicken wire...\n",
       "8                                         fatty change\n",
       "dtype: object"
      ]
     },
     "execution_count": 10,
     "metadata": {},
     "output_type": "execute_result"
    }
   ],
   "source": [
    "responses = pd.Series(llava_responses, index=indices)\n",
    "responses"
   ]
  },
  {
   "cell_type": "code",
   "execution_count": 11,
   "metadata": {},
   "outputs": [],
   "source": [
    "os.makedirs(\"./responses\", exist_ok=True)\n",
    "questions['medtrinity-llava-tri-pathvqa-8b-response'] = responses"
   ]
  },
  {
   "cell_type": "code",
   "execution_count": 12,
   "id": "b9d7fc77",
   "metadata": {},
   "outputs": [],
   "source": [
    "questions.to_csv(\"./responses/medtrinity_llava_tri_8b_responses.csv\", index=False)"
   ]
  },
  {
   "cell_type": "code",
   "execution_count": null,
   "id": "2a66dcaa",
   "metadata": {},
   "outputs": [],
   "source": []
  }
 ],
 "metadata": {
  "kernelspec": {
   "display_name": "path-opendata",
   "language": "python",
   "name": "python3"
  },
  "language_info": {
   "codemirror_mode": {
    "name": "ipython",
    "version": 3
   },
   "file_extension": ".py",
   "mimetype": "text/x-python",
   "name": "python",
   "nbconvert_exporter": "python",
   "pygments_lexer": "ipython3",
   "version": "3.10.18"
  }
 },
 "nbformat": 4,
 "nbformat_minor": 5
}
