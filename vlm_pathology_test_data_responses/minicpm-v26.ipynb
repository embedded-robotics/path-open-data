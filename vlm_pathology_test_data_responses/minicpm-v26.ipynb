{
 "cells": [
  {
   "cell_type": "markdown",
   "id": "5713a7ef",
   "metadata": {},
   "source": [
    "https://github.com/OpenBMB/MiniCPM-o \\\n",
    "https://huggingface.co/openbmb/MiniCPM-V-2_6"
   ]
  },
  {
   "cell_type": "code",
   "execution_count": 1,
   "id": "e38442da",
   "metadata": {},
   "outputs": [],
   "source": [
    "import os"
   ]
  },
  {
   "cell_type": "code",
   "execution_count": 2,
   "id": "744558f1",
   "metadata": {},
   "outputs": [],
   "source": [
    "# Set CUDA_VISIBLE_DEVICES to expose only device 0\n",
    "os.environ[\"CUDA_VISIBLE_DEVICES\"] = \"0\"\n",
    "\n",
    "# Set CUDA_VISIBLE_DEVICES to expose devices 0, 1, 2, and 3\n",
    "# os.environ[\"CUDA_VISIBLE_DEVICES\"] = \"0,1,2,3\""
   ]
  },
  {
   "cell_type": "code",
   "execution_count": 3,
   "id": "1adeac87",
   "metadata": {},
   "outputs": [
    {
     "name": "stderr",
     "output_type": "stream",
     "text": [
      "/data/mn27889/miniconda3/envs/path-opendata/lib/python3.10/site-packages/tqdm/auto.py:21: TqdmWarning: IProgress not found. Please update jupyter and ipywidgets. See https://ipywidgets.readthedocs.io/en/stable/user_install.html\n",
      "  from .autonotebook import tqdm as notebook_tqdm\n"
     ]
    }
   ],
   "source": [
    "import torch\n",
    "import pandas as pd\n",
    "from PIL import Image\n",
    "from transformers import AutoModel, AutoTokenizer"
   ]
  },
  {
   "cell_type": "markdown",
   "id": "dc2e5afd",
   "metadata": {},
   "source": [
    "#### Reading the Pathology Test Data"
   ]
  },
  {
   "cell_type": "code",
   "execution_count": 4,
   "id": "dbe97847",
   "metadata": {},
   "outputs": [
    {
     "data": {
      "text/html": [
       "<div>\n",
       "<style scoped>\n",
       "    .dataframe tbody tr th:only-of-type {\n",
       "        vertical-align: middle;\n",
       "    }\n",
       "\n",
       "    .dataframe tbody tr th {\n",
       "        vertical-align: top;\n",
       "    }\n",
       "\n",
       "    .dataframe thead th {\n",
       "        text-align: right;\n",
       "    }\n",
       "</style>\n",
       "<table border=\"1\" class=\"dataframe\">\n",
       "  <thead>\n",
       "    <tr style=\"text-align: right;\">\n",
       "      <th></th>\n",
       "      <th>image_name</th>\n",
       "      <th>question</th>\n",
       "      <th>original_responses</th>\n",
       "    </tr>\n",
       "  </thead>\n",
       "  <tbody>\n",
       "    <tr>\n",
       "      <th>0</th>\n",
       "      <td>ck_PTGC_2x.jpeg</td>\n",
       "      <td>How can you best describe the low-power patter...</td>\n",
       "      <td>The lymph node shows a mixed follicular and in...</td>\n",
       "    </tr>\n",
       "    <tr>\n",
       "      <th>1</th>\n",
       "      <td>ck_PTGC_2x.jpeg</td>\n",
       "      <td>What are three main differential diagnostic co...</td>\n",
       "      <td>Based on the low-power pattern, the primary co...</td>\n",
       "    </tr>\n",
       "    <tr>\n",
       "      <th>2</th>\n",
       "      <td>ck_PTGC_5x.jpeg</td>\n",
       "      <td>What is the morphologic alteration being depic...</td>\n",
       "      <td>The image shows a central enlarged, somewhat i...</td>\n",
       "    </tr>\n",
       "    <tr>\n",
       "      <th>3</th>\n",
       "      <td>ck_PTGC_5x.jpeg</td>\n",
       "      <td>What is the expected immunoarchitecture of the...</td>\n",
       "      <td>This image shows an enlarged secondary follicl...</td>\n",
       "    </tr>\n",
       "    <tr>\n",
       "      <th>4</th>\n",
       "      <td>ck_serositis_4x.jpg</td>\n",
       "      <td>What is the most common source for the change ...</td>\n",
       "      <td>The changes here show extensive serositis, wit...</td>\n",
       "    </tr>\n",
       "    <tr>\n",
       "      <th>5</th>\n",
       "      <td>ck_serositis_4x.jpg</td>\n",
       "      <td>What is the specific anatomic region shown in ...</td>\n",
       "      <td>The right half shows the muscularis propria an...</td>\n",
       "    </tr>\n",
       "    <tr>\n",
       "      <th>6</th>\n",
       "      <td>ck_steatohepatitis_100x.jpg</td>\n",
       "      <td>If these histologic changes included conspicuo...</td>\n",
       "      <td>There is fatty liver disease and if concurrent...</td>\n",
       "    </tr>\n",
       "    <tr>\n",
       "      <th>7</th>\n",
       "      <td>ck_steatohepatitis_100x.jpg</td>\n",
       "      <td>What would the primary histologic feature to s...</td>\n",
       "      <td>Wilson's disease has many non-specific finding...</td>\n",
       "    </tr>\n",
       "    <tr>\n",
       "      <th>8</th>\n",
       "      <td>ck_steatohepatitis_200x.jpg</td>\n",
       "      <td>In an overweight adolescent with mildly increa...</td>\n",
       "      <td>In the background of steatosis, there is incre...</td>\n",
       "    </tr>\n",
       "  </tbody>\n",
       "</table>\n",
       "</div>"
      ],
      "text/plain": [
       "                    image_name  \\\n",
       "0              ck_PTGC_2x.jpeg   \n",
       "1              ck_PTGC_2x.jpeg   \n",
       "2              ck_PTGC_5x.jpeg   \n",
       "3              ck_PTGC_5x.jpeg   \n",
       "4          ck_serositis_4x.jpg   \n",
       "5          ck_serositis_4x.jpg   \n",
       "6  ck_steatohepatitis_100x.jpg   \n",
       "7  ck_steatohepatitis_100x.jpg   \n",
       "8  ck_steatohepatitis_200x.jpg   \n",
       "\n",
       "                                            question  \\\n",
       "0  How can you best describe the low-power patter...   \n",
       "1  What are three main differential diagnostic co...   \n",
       "2  What is the morphologic alteration being depic...   \n",
       "3  What is the expected immunoarchitecture of the...   \n",
       "4  What is the most common source for the change ...   \n",
       "5  What is the specific anatomic region shown in ...   \n",
       "6  If these histologic changes included conspicuo...   \n",
       "7  What would the primary histologic feature to s...   \n",
       "8  In an overweight adolescent with mildly increa...   \n",
       "\n",
       "                                  original_responses  \n",
       "0  The lymph node shows a mixed follicular and in...  \n",
       "1  Based on the low-power pattern, the primary co...  \n",
       "2  The image shows a central enlarged, somewhat i...  \n",
       "3  This image shows an enlarged secondary follicl...  \n",
       "4  The changes here show extensive serositis, wit...  \n",
       "5  The right half shows the muscularis propria an...  \n",
       "6  There is fatty liver disease and if concurrent...  \n",
       "7  Wilson's disease has many non-specific finding...  \n",
       "8  In the background of steatosis, there is incre...  "
      ]
     },
     "execution_count": 4,
     "metadata": {},
     "output_type": "execute_result"
    }
   ],
   "source": [
    "questions = pd.read_csv(\"../pathology_test_data/questions.csv\")\n",
    "questions"
   ]
  },
  {
   "cell_type": "code",
   "execution_count": 5,
   "metadata": {},
   "outputs": [
    {
     "data": {
      "text/plain": [
       "['ck_steatohepatitis_100x.jpg',\n",
       " 'ck_PTGC_2x.jpeg',\n",
       " 'ck_serositis_4x.jpg',\n",
       " 'ck_steatohepatitis_200x.jpg',\n",
       " 'ck_PTGC_5x.jpeg']"
      ]
     },
     "execution_count": 5,
     "metadata": {},
     "output_type": "execute_result"
    }
   ],
   "source": [
    "images_path = os.path.join(os.getcwd(), \"../pathology_test_data/images\")\n",
    "images_list = os.listdir(images_path)\n",
    "images_list"
   ]
  },
  {
   "cell_type": "markdown",
   "id": "895c0443",
   "metadata": {},
   "source": [
    "#### Loading the Model Checkpoint and Image Processor"
   ]
  },
  {
   "cell_type": "code",
   "execution_count": 6,
   "id": "54eb3def",
   "metadata": {},
   "outputs": [
    {
     "name": "stderr",
     "output_type": "stream",
     "text": [
      "Loading checkpoint shards: 100%|██████████| 4/4 [00:00<00:00, 25.76it/s]\n"
     ]
    }
   ],
   "source": [
    "model = AutoModel.from_pretrained('openbmb/MiniCPM-V-2_6', trust_remote_code=True,\n",
    "                                   attn_implementation='sdpa', torch_dtype=torch.bfloat16) # sdpa or flash_attention_2, no eager\n",
    "\n",
    "model = model.cuda().eval()"
   ]
  },
  {
   "cell_type": "code",
   "execution_count": 7,
   "id": "bafdc37c",
   "metadata": {},
   "outputs": [],
   "source": [
    "tokenizer = AutoTokenizer.from_pretrained('openbmb/MiniCPM-V-2_6', trust_remote_code=True)"
   ]
  },
  {
   "cell_type": "markdown",
   "id": "5e5bfc81",
   "metadata": {},
   "source": [
    "#### Creating the message structure"
   ]
  },
  {
   "cell_type": "code",
   "execution_count": 8,
   "id": "fcdbfd23",
   "metadata": {},
   "outputs": [],
   "source": [
    "messages = []\n",
    "for index, row in questions.iterrows():\n",
    "    image_path = os.path.join(images_path, row[\"image_name\"])\n",
    "    question = row[\"question\"]\n",
    "    image_pil = Image.open(image_path).convert(\"RGB\")\n",
    "    \n",
    "    message = [{'role': 'user', 'content': [image_pil, question]}]    \n",
    "    messages.append(message)"
   ]
  },
  {
   "cell_type": "markdown",
   "id": "dab010b0",
   "metadata": {},
   "source": [
    "#### Running the batch inference"
   ]
  },
  {
   "cell_type": "code",
   "execution_count": 9,
   "id": "e07e6b3d",
   "metadata": {},
   "outputs": [
    {
     "name": "stderr",
     "output_type": "stream",
     "text": [
      "/data/mn27889/miniconda3/envs/path-opendata/lib/python3.10/site-packages/transformers/models/auto/image_processing_auto.py:644: FutureWarning: The image_processor_class argument is deprecated and will be removed in v4.42. Please use `slow_image_processor_class`, or `fast_image_processor_class` instead\n",
      "  warnings.warn(\n",
      "Using a slow image processor as `use_fast` is unset and a slow processor was saved with this model. `use_fast=True` will be the default behavior in v4.52, even if the model was saved with a slow processor. This will result in minor differences in outputs. You'll still be able to use a slow processor with `use_fast=False`.\n"
     ]
    }
   ],
   "source": [
    "output = model.chat(\n",
    "            image=None,\n",
    "            msgs=messages,\n",
    "            tokenizer=tokenizer\n",
    "        )"
   ]
  },
  {
   "cell_type": "code",
   "execution_count": 10,
   "id": "9557811f",
   "metadata": {},
   "outputs": [
    {
     "data": {
      "text/plain": [
       "['The low-power pattern in this image of a lymph node shows a predominantly dense and uniform cellular structure with little to no variation. The cells appear as small, tightly packed clusters without significant gaps or spaces between them. This kind of uniformity is typical of normal tissue structures where the cells are closely associated, which can be seen in healthy lymph nodes. However, for a precise diagnosis, one would typically look at higher magnification (high power) sections to identify specific cell types, patterns of cellularity, and any signs of abnormality such as inflammation, infection, or malignancy.',\n",
       " \"Three main differential diagnostic considerations for a young teenager with solitary lymph node enlargement could include:\\n1. **Infectious causes**: Such as bacterial, viral, or fungal infections that can cause localized lymphadenopathy.\\n2. **Benign reactive conditions**: Like reactions to vaccinations, inflammatory bowel disease, or other systemic inflammatory conditions that may present with lymph node swelling.\\n3. **Malignant processes**: Although less common in younger patients, it is important to consider neoplastic processes like Hodgkin's lymphoma or other malignancies when evaluating lymph node pathology.\",\n",
       " \"The image shows a lymph node with a pattern that suggests the presence of lymphocytes, which are white blood cells that play a role in immune response. The irregularity and clustering of these cells could indicate an immune reaction or a potential abnormal growth such as a lymphoma. However, without additional context or clinical information, it's not possible to definitively diagnose the condition based solely on this image.\",\n",
       " 'Mantle cells, in a normal or unaltered state, typically exhibit a dense arrangement of lymphocytes with prominent nucleoli and relatively uniform staining patterns. They often show a pinkish-purple hue due to the binding of hematoxylin (blue/purple) and eosin (pink/orange) stains. The presence of B-cells is evident through their distinct cell morphology and staining intensity. In an altered state, such as mantle cell lymphoma, these cells may become more disorganized, showing signs of proliferation and dysplasia. The immune architecture would still be recognizable but might appear less orderly and more chaotic compared to the typical appearance.',\n",
       " 'The most common source for the change depicted in this tissue from the bowel of an 8-day-old neonate with distension is colonic fermentation. This process occurs due to bacterial metabolism of ingested material, leading to gas production and bloating in the intestines.',\n",
       " 'The specific anatomic region shown in the image on the right half appears to be a section of the thyroid gland. This can be inferred from the presence of colloid-filled follicles, which are characteristic of thyroid tissue. The histological staining highlights the different cell types and structures typical of thyroid glandular epithelium.',\n",
       " 'If conspicuous portal plasma cells were present in this histological section, the primary consideration for diagnosis would likely be a form of lymphoid neoplasm or autoimmune condition. Portal plasma cells are typically associated with systemic lupus erythematosus (SLE), rheumatoid arthritis, and other autoimmune diseases where these cells accumulate in various organs, including the liver, as part of an immune response against self-antigens. The presence of such cells would suggest that the tissue sample is from a patient with one of these conditions, which could be further confirmed by additional clinical findings and possibly serologic tests to identify specific autoantibodies.',\n",
       " \"The primary histologic feature suggesting a diagnosis of Wilson's disease would be the presence of copper deposits within the cytoplasm of hepatocytes, which is indicated by the brown staining in some cells. Additionally, the liver parenchyma may appear somewhat irregular or nodular due to the copper accumulation. However, without a specific stain for copper and more context on clinical findings, this cannot be definitively confirmed from the image alone.\",\n",
       " 'The portal changes in the liver, such as the presence of Mallory bodies and ballooning hepatocytes, suggest non-alcoholic fatty liver disease (NAFLD). This condition is characterized by an accumulation of fat within liver cells without significant inflammation or other causes like alcohol consumption. The mildly increased transaminases support this diagnosis, as they are commonly elevated in individuals with NAFLD due to the stress on liver cells.']"
      ]
     },
     "execution_count": 10,
     "metadata": {},
     "output_type": "execute_result"
    }
   ],
   "source": [
    "output"
   ]
  },
  {
   "cell_type": "markdown",
   "id": "f962bcc3",
   "metadata": {},
   "source": [
    "#### Storing the output Responses"
   ]
  },
  {
   "cell_type": "code",
   "execution_count": 12,
   "id": "7cae5bc7",
   "metadata": {},
   "outputs": [],
   "source": [
    "os.makedirs(\"./responses\", exist_ok=True)\n",
    "questions['minicpm_v26_response'] = output\n",
    "questions.to_csv(\"./responses/minicpm_v26_responses.csv\", index=False)"
   ]
  },
  {
   "cell_type": "code",
   "execution_count": null,
   "id": "f01fed34",
   "metadata": {},
   "outputs": [],
   "source": []
  }
 ],
 "metadata": {
  "kernelspec": {
   "display_name": "path-opendata",
   "language": "python",
   "name": "python3"
  },
  "language_info": {
   "codemirror_mode": {
    "name": "ipython",
    "version": 3
   },
   "file_extension": ".py",
   "mimetype": "text/x-python",
   "name": "python",
   "nbconvert_exporter": "python",
   "pygments_lexer": "ipython3",
   "version": "3.10.18"
  }
 },
 "nbformat": 4,
 "nbformat_minor": 5
}
