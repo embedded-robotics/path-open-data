{
 "cells": [
  {
   "cell_type": "markdown",
   "id": "641413e1",
   "metadata": {},
   "source": [
    "https://huggingface.co/collections/google/gemma-3-release-67c6c6f89c4f76621268bb6d \\\n",
    "https://huggingface.co/google/gemma-3-4b-it"
   ]
  },
  {
   "cell_type": "code",
   "execution_count": 1,
   "id": "249e1801",
   "metadata": {},
   "outputs": [],
   "source": [
    "import os\n",
    "import sys"
   ]
  },
  {
   "cell_type": "code",
   "execution_count": 2,
   "id": "eec2f6ca",
   "metadata": {},
   "outputs": [],
   "source": [
    "# Set CUDA_VISIBLE_DEVICES to expose only device 0\n",
    "os.environ[\"CUDA_VISIBLE_DEVICES\"] = \"0\"\n",
    "\n",
    "# Set CUDA_VISIBLE_DEVICES to expose devices 0, 1, 2, and 3\n",
    "# os.environ[\"CUDA_VISIBLE_DEVICES\"] = \"0,1,2,3\""
   ]
  },
  {
   "cell_type": "code",
   "execution_count": 3,
   "id": "08335246",
   "metadata": {},
   "outputs": [
    {
     "name": "stderr",
     "output_type": "stream",
     "text": [
      "/data/mn27889/miniconda3/envs/path-opendata/lib/python3.10/site-packages/tqdm/auto.py:21: TqdmWarning: IProgress not found. Please update jupyter and ipywidgets. See https://ipywidgets.readthedocs.io/en/stable/user_install.html\n",
      "  from .autonotebook import tqdm as notebook_tqdm\n"
     ]
    }
   ],
   "source": [
    "from transformers import AutoProcessor, Gemma3ForConditionalGeneration\n",
    "from PIL import Image\n",
    "import requests\n",
    "import torch"
   ]
  },
  {
   "cell_type": "code",
   "execution_count": 4,
   "metadata": {},
   "outputs": [
    {
     "name": "stderr",
     "output_type": "stream",
     "text": [
      "Loading checkpoint shards: 100%|██████████| 2/2 [00:03<00:00,  1.65s/it]\n"
     ]
    }
   ],
   "source": [
    "model_id = \"google/gemma-3-4b-it\"\n",
    "\n",
    "model = Gemma3ForConditionalGeneration.from_pretrained(\n",
    "    model_id, device_map=\"auto\", torch_dtype=torch.bfloat16, trust_remote_code=True\n",
    ").eval()"
   ]
  },
  {
   "cell_type": "code",
   "execution_count": 5,
   "id": "79cb0081",
   "metadata": {},
   "outputs": [
    {
     "name": "stderr",
     "output_type": "stream",
     "text": [
      "Using a slow image processor as `use_fast` is unset and a slow processor was saved with this model. `use_fast=True` will be the default behavior in v4.52, even if the model was saved with a slow processor. This will result in minor differences in outputs. You'll still be able to use a slow processor with `use_fast=False`.\n"
     ]
    }
   ],
   "source": [
    "processor = AutoProcessor.from_pretrained(model_id)"
   ]
  },
  {
   "cell_type": "code",
   "execution_count": 6,
   "id": "60ac6c59",
   "metadata": {},
   "outputs": [],
   "source": [
    "messages = [\n",
    "    {\n",
    "        \"role\": \"system\",\n",
    "        \"content\": [{\"type\": \"text\", \"text\": \"You are a helpful assistant.\"}]\n",
    "    },\n",
    "    {\n",
    "        \"role\": \"user\",\n",
    "        \"content\": [\n",
    "            {\"type\": \"image\", \"image\": \"./DeepSeek-VL2/images/visual_grounding_1.jpeg\"},\n",
    "            {\"type\": \"text\", \"text\": \"Describe this image in detail.\"}\n",
    "        ]\n",
    "    }\n",
    "]"
   ]
  },
  {
   "cell_type": "code",
   "execution_count": 7,
   "id": "fb8ecd66",
   "metadata": {},
   "outputs": [],
   "source": [
    "inputs = processor.apply_chat_template(messages, add_generation_prompt=True, tokenize=True,\n",
    "                                        return_dict=True, return_tensors=\"pt\")\n",
    "\n",
    "inputs = inputs.to(model.device)"
   ]
  },
  {
   "cell_type": "code",
   "execution_count": 8,
   "id": "8a6cd2fc",
   "metadata": {},
   "outputs": [],
   "source": [
    "input_len = inputs[\"input_ids\"].shape[-1]"
   ]
  },
  {
   "cell_type": "code",
   "execution_count": 9,
   "id": "85ca7325",
   "metadata": {},
   "outputs": [
    {
     "name": "stderr",
     "output_type": "stream",
     "text": [
      "The following generation flags are not valid and may be ignored: ['top_p', 'top_k']. Set `TRANSFORMERS_VERBOSITY=info` for more details.\n",
      "/data/mn27889/miniconda3/envs/path-opendata/lib/python3.10/site-packages/torch/_inductor/compile_fx.py:236: UserWarning: TensorFloat32 tensor cores for float32 matrix multiplication available but not enabled. Consider setting `torch.set_float32_matmul_precision('high')` for better performance.\n",
      "  warnings.warn(\n",
      "CUDAGraph supports dynamic shapes by recording a new graph for each distinct input size. Recording too many CUDAGraphs may lead to extra overhead. We have observed 51 distinct sizes. Please consider the following options for better performance: a) padding inputs to a few fixed number of shapes; or b) set torch._inductor.config.triton.cudagraph_skip_dynamic_graphs=True. Set torch._inductor.config.triton.cudagraph_dynamic_shape_warn_limit=None to silence this warning.\n"
     ]
    }
   ],
   "source": [
    "with torch.inference_mode():\n",
    "    generation = model.generate(**inputs, max_new_tokens=200, do_sample=False)\n",
    "    generation = generation[0][input_len:]"
   ]
  },
  {
   "cell_type": "code",
   "execution_count": 10,
   "id": "dc9fb21a",
   "metadata": {},
   "outputs": [
    {
     "name": "stdout",
     "output_type": "stream",
     "text": [
      "Okay, here's a detailed description of the image you sent:\n",
      "\n",
      "**Overall Impression:**\n",
      "\n",
      "The image captures a serene and beautiful scene of two giraffes standing in a grassy field under a clear blue sky. The lighting suggests it’s either early morning or late afternoon, casting long shadows.\n",
      "\n",
      "**Foreground:**\n",
      "\n",
      "*   **Giraffes:** Two giraffes are the primary focus.\n",
      "    *   The giraffe on the left is taller and more prominent, standing upright with its head raised high. It has a classic giraffe pattern of brown spots on a tan body.\n",
      "    *   The giraffe on the right is slightly smaller and appears to be looking towards the left. It also has the distinctive spotted pattern.\n",
      "*   **Grass:** The ground is covered in lush, green grass, providing a vibrant contrast to the giraffes' coats.\n",
      "\n",
      "**Background:**\n",
      "\n",
      "*   **Trees:** A dense line of trees forms the backdrop, creating a natural border to the field. The\n"
     ]
    }
   ],
   "source": [
    "decoded = processor.decode(generation, skip_special_tokens=True)\n",
    "print(decoded)"
   ]
  },
  {
   "cell_type": "code",
   "execution_count": null,
   "id": "ccff5b8a",
   "metadata": {},
   "outputs": [],
   "source": []
  }
 ],
 "metadata": {
  "kernelspec": {
   "display_name": "path-opendata",
   "language": "python",
   "name": "python3"
  },
  "language_info": {
   "codemirror_mode": {
    "name": "ipython",
    "version": 3
   },
   "file_extension": ".py",
   "mimetype": "text/x-python",
   "name": "python",
   "nbconvert_exporter": "python",
   "pygments_lexer": "ipython3",
   "version": "3.10.18"
  }
 },
 "nbformat": 4,
 "nbformat_minor": 5
}
