{
 "cells": [
  {
   "cell_type": "markdown",
   "id": "a34d7c71",
   "metadata": {},
   "source": [
    "https://github.com/DIAGNijmegen/pathology-he-auto-augment \\\n",
    "https://www.sciencedirect.com/science/article/pii/S0010482524001021?via%3Dihub \\\n",
    "https://github.com/DIAGNijmegen/pathology-he-autoaugmetation"
   ]
  },
  {
   "cell_type": "code",
   "execution_count": null,
   "id": "04113f2e",
   "metadata": {},
   "outputs": [],
   "source": [
    "import os\n",
    "import sys"
   ]
  },
  {
   "cell_type": "code",
   "execution_count": null,
   "id": "631fcf25",
   "metadata": {},
   "outputs": [],
   "source": [
    "# Append the LLaVA directory to the system path\n",
    "sys.path.append(os.path.join(os.getcwd(), \"pathology-he-autoaugmetation/randaugment/train\"))"
   ]
  },
  {
   "cell_type": "code",
   "execution_count": null,
   "id": "5206f707",
   "metadata": {},
   "outputs": [],
   "source": [
    "from randaugment_new_ranges import distort_image_with_randaugment\n",
    "from PIL import Image\n",
    "from torchvision import transforms\n",
    "import numpy as np"
   ]
  },
  {
   "cell_type": "code",
   "execution_count": null,
   "metadata": {},
   "outputs": [],
   "source": [
    "image_path = \"./pathology_images/ck_PTGC_2x.jpeg\"\n",
    "pil_image = Image.open(image_path)\n",
    "# Reads the image in W,H format\n",
    "pil_image.size"
   ]
  },
  {
   "cell_type": "code",
   "execution_count": null,
   "id": "28874883",
   "metadata": {},
   "outputs": [],
   "source": [
    "np_array_img = np.array(pil_image)\n",
    "# Reads the image in H,W,C format\n",
    "np_array_img.shape"
   ]
  },
  {
   "cell_type": "code",
   "execution_count": null,
   "id": "e04bb17c",
   "metadata": {},
   "outputs": [],
   "source": [
    "conv_img = distort_image_with_randaugment(np_array_img, num_layers=3, magnitude=5, randomize=True)"
   ]
  },
  {
   "cell_type": "code",
   "execution_count": 20,
   "id": "3a8c9220",
   "metadata": {},
   "outputs": [],
   "source": [
    "Image.fromarray(conv_img)"
   ]
  },
  {
   "cell_type": "code",
   "execution_count": null,
   "id": "88d94715",
   "metadata": {},
   "outputs": [],
   "source": []
  }
 ],
 "metadata": {
  "kernelspec": {
   "display_name": "path-opendata",
   "language": "python",
   "name": "python3"
  },
  "language_info": {
   "codemirror_mode": {
    "name": "ipython",
    "version": 3
   },
   "file_extension": ".py",
   "mimetype": "text/x-python",
   "name": "python",
   "nbconvert_exporter": "python",
   "pygments_lexer": "ipython3",
   "version": "3.10.18"
  }
 },
 "nbformat": 4,
 "nbformat_minor": 5
}
