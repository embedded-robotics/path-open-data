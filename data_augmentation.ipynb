{
 "cells": [
  {
   "cell_type": "markdown",
   "id": "a34d7c71",
   "metadata": {},
   "source": [
    "https://github.com/DIAGNijmegen/pathology-he-auto-augment \\\n",
    "https://www.sciencedirect.com/science/article/pii/S0010482524001021?via%3Dihub \\\n",
    "https://github.com/DIAGNijmegen/pathology-he-autoaugmetation"
   ]
  },
  {
   "cell_type": "code",
   "execution_count": null,
   "id": "04113f2e",
   "metadata": {},
   "outputs": [],
   "source": [
    "import os\n",
    "import sys"
   ]
  },
  {
   "cell_type": "code",
   "execution_count": null,
   "id": "631fcf25",
   "metadata": {},
   "outputs": [],
   "source": [
    "# Append the LLaVA directory to the system path\n",
    "sys.path.append(os.path.join(os.getcwd(), \"pathology-he-autoaugmetation/randaugment/train\"))"
   ]
  },
  {
   "cell_type": "code",
   "execution_count": null,
   "id": "5206f707",
   "metadata": {},
   "outputs": [],
   "source": [
    "from randaugment_new_ranges import distort_image_with_randaugment\n",
    "from PIL import Image\n",
    "import numpy as np\n",
    "from tqdm import tqdm"
   ]
  },
  {
   "cell_type": "markdown",
   "id": "112039bd",
   "metadata": {},
   "source": [
    "#### Defining Image Information"
   ]
  },
  {
   "cell_type": "code",
   "execution_count": null,
   "id": "bd9066b6",
   "metadata": {},
   "outputs": [],
   "source": [
    "src_image_folder = \"./pathology_images\"\n",
    "dst_image_folder = src_image_folder + \"_augmented\"\n",
    "os.makedirs(dst_image_folder, exist_ok=True)"
   ]
  },
  {
   "cell_type": "code",
   "execution_count": null,
   "metadata": {},
   "outputs": [],
   "source": [
    "src_images = os.listdir(src_image_folder)\n",
    "src_images"
   ]
  },
  {
   "cell_type": "markdown",
   "id": "20674f4a",
   "metadata": {},
   "source": [
    "#### Process each image one-by-one"
   ]
  },
  {
   "cell_type": "code",
   "execution_count": null,
   "id": "a603c80a",
   "metadata": {},
   "outputs": [],
   "source": [
    "TOTAL_AUGMENTAIONS = 10  # Number of augmentations per image\n",
    "for src_image in src_images:\n",
    "    src_image_path = os.path.join(src_image_folder, src_image)\n",
    "    src_image_name = src_image.split(\".\")[0]\n",
    "    dst_image_aug_folder = os.path.join(dst_image_folder, src_image_name + \"_augmented\")\n",
    "    os.makedirs(dst_image_aug_folder, exist_ok=True)\n",
    "\n",
    "    pil_image = Image.open(src_image_path)\n",
    "    np_array_img = np.array(pil_image)\n",
    "    for i in tqdm(range(TOTAL_AUGMENTAIONS), desc=f\"Augmenting {src_image_name}\"):\n",
    "        # Apply RandAugment with specified parameters\n",
    "        conv_img_arr = distort_image_with_randaugment(np_array_img, num_layers=3, magnitude=5, randomize=False, randaugment_transforms_set='midl')\n",
    "        conv_img = Image.fromarray(conv_img_arr)\n",
    "        conv_img.save(os.path.join(dst_image_aug_folder, src_image_name + f\"_{i}.png\"))"
   ]
  },
  {
   "cell_type": "code",
   "execution_count": null,
   "id": "14c37173",
   "metadata": {},
   "outputs": [],
   "source": []
  },
  {
   "cell_type": "code",
   "execution_count": null,
   "id": "e04bb17c",
   "metadata": {},
   "outputs": [],
   "source": []
  },
  {
   "cell_type": "code",
   "execution_count": null,
   "id": "3a8c9220",
   "metadata": {},
   "outputs": [],
   "source": []
  },
  {
   "cell_type": "code",
   "execution_count": null,
   "id": "88d94715",
   "metadata": {},
   "outputs": [],
   "source": []
  }
 ],
 "metadata": {
  "kernelspec": {
   "display_name": "path-opendata",
   "language": "python",
   "name": "python3"
  },
  "language_info": {
   "codemirror_mode": {
    "name": "ipython",
    "version": 3
   },
   "file_extension": ".py",
   "mimetype": "text/x-python",
   "name": "python",
   "nbconvert_exporter": "python",
   "pygments_lexer": "ipython3",
   "version": "3.10.18"
  }
 },
 "nbformat": 4,
 "nbformat_minor": 5
}
